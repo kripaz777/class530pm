{
 "cells": [
  {
   "cell_type": "code",
   "execution_count": 1,
   "metadata": {},
   "outputs": [
    {
     "ename": "IndentationError",
     "evalue": "unexpected indent (<ipython-input-1-670c6881fcb8>, line 2)",
     "output_type": "error",
     "traceback": [
      "\u001b[1;36m  File \u001b[1;32m\"<ipython-input-1-670c6881fcb8>\"\u001b[1;36m, line \u001b[1;32m2\u001b[0m\n\u001b[1;33m    b = int(input(\"Enter b = \"))\u001b[0m\n\u001b[1;37m    ^\u001b[0m\n\u001b[1;31mIndentationError\u001b[0m\u001b[1;31m:\u001b[0m unexpected indent\n"
     ]
    }
   ],
   "source": [
    "a = int(input(\"Enter a = \"))\n",
    "b = int(input(\"Enter b = \"))\n",
    "c = a+b\n",
    "print(\"The value of c is =\",c)"
   ]
  },
  {
   "cell_type": "code",
   "execution_count": 2,
   "metadata": {},
   "outputs": [],
   "source": [
    "# if <condition>:\n",
    "#     <operations>\n",
    "# elif <condition>:\n",
    "#     <operations>\n",
    "# else:\n",
    "#     <operations>"
   ]
  },
  {
   "cell_type": "code",
   "execution_count": 4,
   "metadata": {},
   "outputs": [
    {
     "name": "stdout",
     "output_type": "stream",
     "text": [
      "False\n",
      "True\n"
     ]
    }
   ],
   "source": [
    "# < >  == <= >= !=\n",
    "a = 10\n",
    "b = 20\n",
    "print(a>b)\n",
    "print(a<b)"
   ]
  },
  {
   "cell_type": "code",
   "execution_count": 5,
   "metadata": {},
   "outputs": [
    {
     "name": "stdout",
     "output_type": "stream",
     "text": [
      "b is greater\n"
     ]
    }
   ],
   "source": [
    "a = 10\n",
    "b = 20\n",
    "if a<b:\n",
    "    print(\"b is greater\")\n",
    "elif a>b:\n",
    "    print(\"a is greater\")\n",
    "else:\n",
    "    print(\"Both are equal\")"
   ]
  },
  {
   "cell_type": "code",
   "execution_count": 6,
   "metadata": {},
   "outputs": [
    {
     "name": "stdout",
     "output_type": "stream",
     "text": [
      "Enter a = 21\n",
      "Enter b = 13\n",
      "a is greater\n"
     ]
    }
   ],
   "source": [
    "a = int(input(\"Enter a = \"))\n",
    "b = int(input(\"Enter b = \"))\n",
    "if a<b:\n",
    "    print(\"b is greater\")\n",
    "elif a>b:\n",
    "    print(\"a is greater\")\n",
    "else:\n",
    "    print(\"Both are equal\")"
   ]
  },
  {
   "cell_type": "code",
   "execution_count": null,
   "metadata": {},
   "outputs": [],
   "source": [
    "#and or & |\n",
    "a = int(input(\"Enter a = \"))\n",
    "b = int(input(\"Enter b = \"))\n",
    "c = int(input(\"Enter c = \"))\n",
    "if a<b & c<b:\n",
    "    print(\"b is greater\")\n",
    "elif a>b and a>c:\n",
    "    print(\"a is greater\")\n",
    "elif c>a and c>b:\n",
    "    print(\"c is greater\")\n",
    "else:\n",
    "    print(\"Both are equal\")"
   ]
  },
  {
   "cell_type": "code",
   "execution_count": 8,
   "metadata": {},
   "outputs": [
    {
     "name": "stdout",
     "output_type": "stream",
     "text": [
      "Enter a = 12\n",
      "Enter b = 3\n",
      "Enter operator + - * / /\n",
      "4.0\n"
     ]
    }
   ],
   "source": [
    "a = int(input(\"Enter a = \"))\n",
    "b = int(input(\"Enter b = \"))\n",
    "o = input(\"Enter operator + - * / \")\n",
    "if o == '+':\n",
    "    print(a+b)\n",
    "elif o == '-':\n",
    "    print(a-b)\n",
    "elif o == '*':\n",
    "    print(a*b)\n",
    "elif o == '/' and b != 0:\n",
    "    \n",
    "    print(a/b)\n",
    "elif b == 0:\n",
    "    print(\"value of b can not be zero\")\n",
    "else:\n",
    "    print(\"Invalid Operator\")"
   ]
  },
  {
   "cell_type": "code",
   "execution_count": 9,
   "metadata": {},
   "outputs": [],
   "source": [
    "# if <condition>:\n",
    "#     if <condition>:\n",
    "#         <operations>\n",
    "#     else:\n",
    "#         <opetaiopns>"
   ]
  },
  {
   "cell_type": "code",
   "execution_count": null,
   "metadata": {},
   "outputs": [],
   "source": [
    "a = int(input(\"Enter a = \"))\n",
    "b = int(input(\"Enter b = \"))\n",
    "o = input(\"Enter operator + - * / \")\n",
    "if o == '+':\n",
    "    print(a+b)\n",
    "elif o == '-':\n",
    "    print(a-b)\n",
    "elif o == '*':\n",
    "    print(a*b)\n",
    "elif o == '/':\n",
    "    if b == 0:\n",
    "        print(\"value of b can not be zero during division\")\n",
    "        \n",
    "    else:\n",
    "        print(a/b)\n",
    "\n",
    "else:\n",
    "    print(\"Invalid Operator\")"
   ]
  }
 ],
 "metadata": {
  "kernelspec": {
   "display_name": "Python 3",
   "language": "python",
   "name": "python3"
  },
  "language_info": {
   "codemirror_mode": {
    "name": "ipython",
    "version": 3
   },
   "file_extension": ".py",
   "mimetype": "text/x-python",
   "name": "python",
   "nbconvert_exporter": "python",
   "pygments_lexer": "ipython3",
   "version": "3.7.1"
  }
 },
 "nbformat": 4,
 "nbformat_minor": 2
}
