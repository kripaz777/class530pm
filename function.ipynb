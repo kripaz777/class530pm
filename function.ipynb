{
 "cells": [
  {
   "cell_type": "code",
   "execution_count": 1,
   "metadata": {},
   "outputs": [],
   "source": [
    "# def <function>():   #defining function\n",
    "#     <operations>\n",
    "    \n",
    "# <function>()"
   ]
  },
  {
   "cell_type": "code",
   "execution_count": 2,
   "metadata": {},
   "outputs": [
    {
     "name": "stdout",
     "output_type": "stream",
     "text": [
      "Hello World\n"
     ]
    }
   ],
   "source": [
    "def hello():\n",
    "    print(\"Hello World\")\n",
    "    \n",
    "hello()"
   ]
  },
  {
   "cell_type": "code",
   "execution_count": 3,
   "metadata": {},
   "outputs": [
    {
     "name": "stdout",
     "output_type": "stream",
     "text": [
      "Enter l = 10\n",
      "Enter b = 2\n",
      "Enter h = 3\n",
      "The volume is =  60\n"
     ]
    }
   ],
   "source": [
    "def cal():\n",
    "    l = int(input(\"Enter l = \"))\n",
    "    b = int(input(\"Enter b = \"))\n",
    "    h = int(input(\"Enter h = \"))\n",
    "    v = l*b*h\n",
    "    print(\"The volume is = \",v)\n",
    "    \n",
    "cal()"
   ]
  },
  {
   "cell_type": "code",
   "execution_count": 4,
   "metadata": {},
   "outputs": [
    {
     "name": "stdout",
     "output_type": "stream",
     "text": [
      "Enter p = 243324\n",
      "Enter t = 4\n",
      "Enter r = 3\n",
      "The value of i =  29198.88\n",
      "Enter p = 234234\n",
      "Enter t = 3\n",
      "Enter r = 4\n",
      "The value of i =  28108.08\n"
     ]
    }
   ],
   "source": [
    "def cals():\n",
    "    p = float(input(\"Enter p = \"))  #local variable\n",
    "    t = float(input(\"Enter t = \"))\n",
    "    r = float(input(\"Enter r = \"))\n",
    "    i = p*t*r/100\n",
    "    print(\"The value of i = \",i)\n",
    "\n",
    "n = int(input(\"Enter how many times to calculate = \"))\n",
    "for i in range(n):\n",
    "    cals()\n"
   ]
  },
  {
   "cell_type": "code",
   "execution_count": 5,
   "metadata": {},
   "outputs": [],
   "source": [
    "# function with no argument and no return type\n",
    "# function with argument and no return type\n",
    "# function with no argument and return type\n",
    "# function with argument and return type"
   ]
  },
  {
   "cell_type": "code",
   "execution_count": 1,
   "metadata": {},
   "outputs": [
    {
     "name": "stdout",
     "output_type": "stream",
     "text": [
      "Enter l = 21\n",
      "Enter b = 33\n",
      "Enter h = 12\n",
      "The volume is =  8316\n"
     ]
    },
    {
     "ename": "NameError",
     "evalue": "name 'l' is not defined",
     "output_type": "error",
     "traceback": [
      "\u001b[1;31m---------------------------------------------------------------------------\u001b[0m",
      "\u001b[1;31mNameError\u001b[0m                                 Traceback (most recent call last)",
      "\u001b[1;32m<ipython-input-1-3e6172356b6e>\u001b[0m in \u001b[0;36m<module>\u001b[1;34m\u001b[0m\n\u001b[0;32m      8\u001b[0m \u001b[1;33m\u001b[0m\u001b[0m\n\u001b[0;32m      9\u001b[0m \u001b[0mcal\u001b[0m\u001b[1;33m(\u001b[0m\u001b[1;33m)\u001b[0m\u001b[1;33m\u001b[0m\u001b[1;33m\u001b[0m\u001b[0m\n\u001b[1;32m---> 10\u001b[1;33m \u001b[0mprint\u001b[0m\u001b[1;33m(\u001b[0m\u001b[0ml\u001b[0m\u001b[1;33m)\u001b[0m\u001b[1;33m\u001b[0m\u001b[1;33m\u001b[0m\u001b[0m\n\u001b[0m",
      "\u001b[1;31mNameError\u001b[0m: name 'l' is not defined"
     ]
    }
   ],
   "source": [
    "# function with no argument and no return type\n",
    "def cal():\n",
    "    l = int(input(\"Enter l = \"))  #local variable\n",
    "    b = int(input(\"Enter b = \"))\n",
    "    h = int(input(\"Enter h = \"))\n",
    "    v = l*b*h\n",
    "    print(\"The volume is = \",v)\n",
    "    \n",
    "cal()\n",
    "print(l)"
   ]
  },
  {
   "cell_type": "code",
   "execution_count": 2,
   "metadata": {},
   "outputs": [
    {
     "name": "stdout",
     "output_type": "stream",
     "text": [
      "Enter l = 12\n",
      "Enter b = 324\n",
      "Enter h = 12\n",
      "The volume is =  46656\n",
      "12 324 12\n"
     ]
    }
   ],
   "source": [
    "# function with no argument and no return type\n",
    "l = int(input(\"Enter l = \"))   #global variable\n",
    "b = int(input(\"Enter b = \"))\n",
    "h = int(input(\"Enter h = \"))\n",
    "def cal():\n",
    "    \n",
    "    v = l*b*h\n",
    "    print(\"The volume is = \",v)\n",
    "    \n",
    "cal()\n",
    "print(l,b,h)"
   ]
  },
  {
   "cell_type": "code",
   "execution_count": 3,
   "metadata": {},
   "outputs": [
    {
     "name": "stdout",
     "output_type": "stream",
     "text": [
      "Hello World\n"
     ]
    }
   ],
   "source": [
    "# function with argument but non return type\n",
    "def hello(x):\n",
    "    print(x)\n",
    "    \n",
    "hello(\"Hello World\")"
   ]
  },
  {
   "cell_type": "code",
   "execution_count": 4,
   "metadata": {},
   "outputs": [
    {
     "name": "stdout",
     "output_type": "stream",
     "text": [
      "Enter l = 10\n",
      "Enter b = 2\n",
      "Enter h = 4\n",
      "The volume is =  80\n"
     ]
    }
   ],
   "source": [
    "# function with argument and no return type\n",
    "\n",
    "def cal(l,b,h):\n",
    "    v = l*b*h\n",
    "    print(\"The volume is = \",v)\n",
    "    \n",
    "    \n",
    "l = int(input(\"Enter l = \"))   #global variable\n",
    "b = int(input(\"Enter b = \"))\n",
    "h = int(input(\"Enter h = \"))    \n",
    "cal(l,b,h)"
   ]
  },
  {
   "cell_type": "code",
   "execution_count": 5,
   "metadata": {},
   "outputs": [
    {
     "name": "stdout",
     "output_type": "stream",
     "text": [
      "Enter l = 213\n",
      "Enter b = 3\n",
      "Enter h = 2\n",
      "The volume is =  1278\n"
     ]
    }
   ],
   "source": [
    "# function with argument and no return type\n",
    "\n",
    "def cal(x,y,z):\n",
    "    global v\n",
    "    v = x*y*z  # v is global\n",
    "    \n",
    "l = int(input(\"Enter l = \"))   #global variable\n",
    "b = int(input(\"Enter b = \"))\n",
    "h = int(input(\"Enter h = \"))    \n",
    "cal(l,b,h)\n",
    "print(\"The volume is = \",v) "
   ]
  },
  {
   "cell_type": "code",
   "execution_count": 8,
   "metadata": {},
   "outputs": [
    {
     "name": "stdout",
     "output_type": "stream",
     "text": [
      "20\n"
     ]
    }
   ],
   "source": [
    "def area(x,y=5):\n",
    "    a = x*y\n",
    "    print(a)\n",
    "    \n",
    "l = 10\n",
    "b = 2\n",
    "area(l,b)"
   ]
  },
  {
   "cell_type": "code",
   "execution_count": 10,
   "metadata": {},
   "outputs": [
    {
     "name": "stdout",
     "output_type": "stream",
     "text": [
      "50\n"
     ]
    }
   ],
   "source": [
    "def area(x,y=5):\n",
    "    a = x*y\n",
    "    print(a)\n",
    "    \n",
    "l = 10\n",
    "b = 2\n",
    "area(l)"
   ]
  },
  {
   "cell_type": "code",
   "execution_count": 13,
   "metadata": {},
   "outputs": [
    {
     "name": "stdout",
     "output_type": "stream",
     "text": [
      "20\n"
     ]
    }
   ],
   "source": [
    "def area(x=4,y=5):\n",
    "    a = x*y\n",
    "    print(a)\n",
    "    \n",
    "l = 10\n",
    "b = 2\n",
    "area(10,2)"
   ]
  },
  {
   "cell_type": "code",
   "execution_count": 15,
   "metadata": {},
   "outputs": [
    {
     "name": "stdout",
     "output_type": "stream",
     "text": [
      "Enter nameRam\n",
      "Enter Age = 34\n",
      "Enter address = Kathmandu\n",
      "hello my name is Ram I am from KathmanduI am 34\n"
     ]
    }
   ],
   "source": [
    "# function with argument and no return type\n",
    "def info(c):\n",
    "    x,y,z = c\n",
    "    a = \"hello my name is \" +x+\" I am from \"+z+\"I am \"+str(y)\n",
    "    print(a)\n",
    "    \n",
    "name = input(\"Enter name\")\n",
    "age = int(input(\"Enter Age = \"))\n",
    "add = input(\"Enter address = \")\n",
    "b = [name,age,add]\n",
    "info(b)"
   ]
  },
  {
   "cell_type": "code",
   "execution_count": 19,
   "metadata": {},
   "outputs": [
    {
     "name": "stdout",
     "output_type": "stream",
     "text": [
      "200\n"
     ]
    }
   ],
   "source": [
    "# function with no argument and return type\n",
    "def cal():\n",
    "    l = 10\n",
    "    b = 20\n",
    "    a = l*b\n",
    "    return a\n",
    "\n",
    "print(cal())"
   ]
  },
  {
   "cell_type": "code",
   "execution_count": 21,
   "metadata": {},
   "outputs": [
    {
     "name": "stdout",
     "output_type": "stream",
     "text": [
      "4000\n"
     ]
    }
   ],
   "source": [
    "def cal():\n",
    "    l = 10\n",
    "    b = 20\n",
    "    a = l*b\n",
    "    return a\n",
    "\n",
    "area = cal()\n",
    "h =20\n",
    "v = area*h\n",
    "print(v)"
   ]
  },
  {
   "cell_type": "code",
   "execution_count": 24,
   "metadata": {},
   "outputs": [
    {
     "name": "stdout",
     "output_type": "stream",
     "text": [
      "4000\n"
     ]
    }
   ],
   "source": [
    "def cal():\n",
    "    l = 10\n",
    "    b = 20\n",
    "    a = l*b\n",
    "    return a\n",
    "\n",
    "\n",
    "h =20\n",
    "v = cal()*h\n",
    "print(v)"
   ]
  },
  {
   "cell_type": "code",
   "execution_count": 25,
   "metadata": {},
   "outputs": [
    {
     "name": "stdout",
     "output_type": "stream",
     "text": [
      "The area is =  200\n",
      "The volume is =  600\n"
     ]
    }
   ],
   "source": [
    "def area():\n",
    "    l = 20\n",
    "    b = 10\n",
    "    a = l*b\n",
    "    return a\n",
    "\n",
    "def volume():\n",
    "    h = 3\n",
    "    v = area()*h\n",
    "    return v\n",
    "    \n",
    "print(\"The area is = \",area())\n",
    "print(\"The volume is = \",volume())"
   ]
  },
  {
   "cell_type": "code",
   "execution_count": 1,
   "metadata": {},
   "outputs": [
    {
     "name": "stdout",
     "output_type": "stream",
     "text": [
      "Enter nameRam\n",
      "Enter Age = 34\n",
      "Enter address = Kathandu\n",
      "hello my name is Ram I am from KathanduI am 34\n"
     ]
    }
   ],
   "source": [
    "# function with argument and return type\n",
    "def info(c):\n",
    "    x,y,z = c\n",
    "    a = \"hello my name is \" +x+\" I am from \"+z+\"I am \"+str(y)\n",
    "    return a\n",
    "    \n",
    "name = input(\"Enter name\")\n",
    "age = int(input(\"Enter Age = \"))\n",
    "add = input(\"Enter address = \")\n",
    "b = [name,age,add]\n",
    "print(info(b))"
   ]
  },
  {
   "cell_type": "code",
   "execution_count": 1,
   "metadata": {},
   "outputs": [
    {
     "name": "stdout",
     "output_type": "stream",
     "text": [
      "Hello World\n",
      "Hello World\n"
     ]
    }
   ],
   "source": [
    "# Recursive function\n",
    "def hello():\n",
    "    print(\"Hello World\")\n",
    "hello()\n",
    "    \n",
    "hello()"
   ]
  },
  {
   "cell_type": "code",
   "execution_count": 3,
   "metadata": {},
   "outputs": [
    {
     "name": "stdout",
     "output_type": "stream",
     "text": [
      "Hello World\n",
      "Enter y for more print = y\n",
      "Hello World\n",
      "Enter y for more print = y\n",
      "Hello World\n",
      "Enter y for more print = adas\n"
     ]
    }
   ],
   "source": [
    "def hello():\n",
    "    print(\"Hello World\")\n",
    "    x = input(\"Enter y for more print = \")\n",
    "    if x == 'y':\n",
    "        hello()\n",
    "    \n",
    "hello()"
   ]
  },
  {
   "cell_type": "code",
   "execution_count": 6,
   "metadata": {},
   "outputs": [
    {
     "name": "stdout",
     "output_type": "stream",
     "text": [
      "Enter a = 10\n",
      "Enter b = 2\n",
      "Enter + - * / +\n",
      "12\n",
      "Enter x = y\n",
      "Enter a = 10\n",
      "Enter b = 3\n",
      "Enter + - * / /\n",
      "3.3333333333333335\n",
      "Enter x = assds\n"
     ]
    }
   ],
   "source": [
    "def add(x,y):\n",
    "    return x+y\n",
    "def sub(x,y):\n",
    "    return x-y\n",
    "def mul(x,y):\n",
    "    return x*y\n",
    "def div(x,y):\n",
    "    return x/y\n",
    "def cal():\n",
    "    a = int(input(\"Enter a = \"))\n",
    "    b = int(input(\"Enter b = \"))\n",
    "    o = input(\"Enter + - * / \")\n",
    "    if o ==\"+\":\n",
    "        print(add(a,b))\n",
    "    elif o == \"-\":\n",
    "        print(sub(a,b))\n",
    "    elif o == \"*\":\n",
    "        print(mul(a,b))\n",
    "    elif o == \"/\" and b !=0:\n",
    "        print(div(a,b))\n",
    "    elif b == 0:\n",
    "        print(\"b can not be zero\")\n",
    "    else:\n",
    "        print(\"invalid operator\")\n",
    "    x = input(\"Enter x = \")\n",
    "    if x == 'y':\n",
    "        cal()\n",
    "cal()"
   ]
  },
  {
   "cell_type": "code",
   "execution_count": 8,
   "metadata": {},
   "outputs": [
    {
     "name": "stdout",
     "output_type": "stream",
     "text": [
      "3.141592653589793\n",
      "2.718281828459045\n"
     ]
    }
   ],
   "source": [
    "# Math function\n",
    "import math\n",
    "print(math.pi)\n",
    "print(math.e)"
   ]
  },
  {
   "cell_type": "code",
   "execution_count": 15,
   "metadata": {},
   "outputs": [
    {
     "name": "stdout",
     "output_type": "stream",
     "text": [
      "Enter r = 7\n",
      "The area is =  153.93804002589985\n"
     ]
    }
   ],
   "source": [
    "import math as m\n",
    "r = int(input(\"Enter r = \"))\n",
    "a = m.pi*m.pow(r,2)\n",
    "print(\"The area is = \",a)"
   ]
  },
  {
   "cell_type": "code",
   "execution_count": 13,
   "metadata": {},
   "outputs": [
    {
     "data": {
      "text/plain": [
       "0.8939966636005579"
      ]
     },
     "execution_count": 13,
     "metadata": {},
     "output_type": "execute_result"
    }
   ],
   "source": [
    "m.sin(90)"
   ]
  },
  {
   "cell_type": "code",
   "execution_count": 14,
   "metadata": {},
   "outputs": [
    {
     "data": {
      "text/plain": [
       "1.0"
      ]
     },
     "execution_count": 14,
     "metadata": {},
     "output_type": "execute_result"
    }
   ],
   "source": [
    "a =  m.pi/2\n",
    "m.sin(a)"
   ]
  },
  {
   "cell_type": "code",
   "execution_count": 19,
   "metadata": {},
   "outputs": [
    {
     "data": {
      "text/plain": [
       "6.123233995736766e-17"
      ]
     },
     "execution_count": 19,
     "metadata": {},
     "output_type": "execute_result"
    }
   ],
   "source": [
    "m.cos(m.pi/2)"
   ]
  },
  {
   "cell_type": "code",
   "execution_count": 22,
   "metadata": {},
   "outputs": [
    {
     "name": "stdout",
     "output_type": "stream",
     "text": [
      "1.0\n"
     ]
    }
   ],
   "source": [
    "import math as m\n",
    "a = m.pi/2\n",
    "x = m.pow(m.sin(a),2)\n",
    "y = m.pow(m.cos(a),2)\n",
    "print(x+y)"
   ]
  },
  {
   "cell_type": "code",
   "execution_count": 20,
   "metadata": {},
   "outputs": [
    {
     "data": {
      "text/plain": [
       "6"
      ]
     },
     "execution_count": 20,
     "metadata": {},
     "output_type": "execute_result"
    }
   ],
   "source": [
    "m.factorial(3)"
   ]
  },
  {
   "cell_type": "code",
   "execution_count": 23,
   "metadata": {},
   "outputs": [
    {
     "data": {
      "text/plain": [
       "1000"
      ]
     },
     "execution_count": 23,
     "metadata": {},
     "output_type": "execute_result"
    }
   ],
   "source": [
    "a = (312,34,132,43,123,45,23,54,234)\n",
    "sum(a)"
   ]
  },
  {
   "cell_type": "code",
   "execution_count": 24,
   "metadata": {},
   "outputs": [
    {
     "data": {
      "text/plain": [
       "312"
      ]
     },
     "execution_count": 24,
     "metadata": {},
     "output_type": "execute_result"
    }
   ],
   "source": [
    "max(a)"
   ]
  },
  {
   "cell_type": "code",
   "execution_count": 25,
   "metadata": {},
   "outputs": [
    {
     "data": {
      "text/plain": [
       "23"
      ]
     },
     "execution_count": 25,
     "metadata": {},
     "output_type": "execute_result"
    }
   ],
   "source": [
    "min(a)"
   ]
  },
  {
   "cell_type": "code",
   "execution_count": null,
   "metadata": {},
   "outputs": [],
   "source": []
  }
 ],
 "metadata": {
  "kernelspec": {
   "display_name": "Python 3",
   "language": "python",
   "name": "python3"
  },
  "language_info": {
   "codemirror_mode": {
    "name": "ipython",
    "version": 3
   },
   "file_extension": ".py",
   "mimetype": "text/x-python",
   "name": "python",
   "nbconvert_exporter": "python",
   "pygments_lexer": "ipython3",
   "version": "3.7.1"
  }
 },
 "nbformat": 4,
 "nbformat_minor": 2
}
