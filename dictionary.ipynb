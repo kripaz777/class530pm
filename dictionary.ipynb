{
 "cells": [
  {
   "cell_type": "code",
   "execution_count": 1,
   "metadata": {},
   "outputs": [],
   "source": [
    "# Dictionary\n",
    "# -Indexed\n",
    "# -duplicate members\n",
    "# -ordered\n",
    "# -mutable\n",
    "# -no duplicate index"
   ]
  },
  {
   "cell_type": "code",
   "execution_count": 2,
   "metadata": {},
   "outputs": [
    {
     "name": "stdout",
     "output_type": "stream",
     "text": [
      "{}\n",
      "{}\n"
     ]
    }
   ],
   "source": [
    "a = {}\n",
    "b = dict()\n",
    "print(a)\n",
    "print(b)"
   ]
  },
  {
   "cell_type": "code",
   "execution_count": 3,
   "metadata": {},
   "outputs": [],
   "source": [
    "# a = {<Key>:<value>,<key>:<value>,...}"
   ]
  },
  {
   "cell_type": "code",
   "execution_count": 10,
   "metadata": {},
   "outputs": [
    {
     "name": "stdout",
     "output_type": "stream",
     "text": [
      "Apple\n"
     ]
    }
   ],
   "source": [
    "a = {'A':\"Apple\",\"B\":\"Ball\"}\n",
    "b = {1:\"Apple\",2:\"Ball\"}\n",
    "# c = [\"Apple\",\"Ball\"]\n",
    "print(b[1])"
   ]
  },
  {
   "cell_type": "code",
   "execution_count": 11,
   "metadata": {},
   "outputs": [
    {
     "data": {
      "text/plain": [
       "{'a': 'apple', 'A': 'apple'}"
      ]
     },
     "execution_count": 11,
     "metadata": {},
     "output_type": "execute_result"
    }
   ],
   "source": [
    "a = {'a':'apple','A':'apple'}\n",
    "a"
   ]
  },
  {
   "cell_type": "code",
   "execution_count": 13,
   "metadata": {},
   "outputs": [
    {
     "data": {
      "text/plain": [
       "{'a': 'Apple'}"
      ]
     },
     "execution_count": 13,
     "metadata": {},
     "output_type": "execute_result"
    }
   ],
   "source": [
    "a = {'a':'apple','a':'Apple'}\n",
    "a"
   ]
  },
  {
   "cell_type": "code",
   "execution_count": 17,
   "metadata": {},
   "outputs": [
    {
     "data": {
      "text/plain": [
       "{'a': 'Ant'}"
      ]
     },
     "execution_count": 17,
     "metadata": {},
     "output_type": "execute_result"
    }
   ],
   "source": [
    "a = {'a':\"Apple\"}\n",
    "a['a'] = 'Ant'\n",
    "a"
   ]
  },
  {
   "cell_type": "code",
   "execution_count": 20,
   "metadata": {},
   "outputs": [
    {
     "data": {
      "text/plain": [
       "{'a': 'apple', 'b': 'ball'}"
      ]
     },
     "execution_count": 20,
     "metadata": {},
     "output_type": "execute_result"
    }
   ],
   "source": [
    "a = {}\n",
    "a['a'] = 'apple'\n",
    "a['b'] = 'ball'\n",
    "a"
   ]
  },
  {
   "cell_type": "code",
   "execution_count": 22,
   "metadata": {},
   "outputs": [
    {
     "name": "stdout",
     "output_type": "stream",
     "text": [
      "Enter n = 2\n",
      "Enter x = Apple\n",
      "Enter x = Ball\n",
      "{0: 'Apple', 1: 'Ball'}\n"
     ]
    }
   ],
   "source": [
    "a = {}\n",
    "n = int(input(\"Enter n = \"))\n",
    "for i in range(n):\n",
    "    x = input(\"Enter x = \")\n",
    "    a[i] = x\n",
    "print(a)"
   ]
  },
  {
   "cell_type": "code",
   "execution_count": 23,
   "metadata": {},
   "outputs": [
    {
     "name": "stdout",
     "output_type": "stream",
     "text": [
      "Enter n = 2\n",
      "Enter name = Ram\n",
      "Enter Phone = 9867576765\n",
      "Enter name = Shyam\n",
      "Enter Phone = 9857657\n",
      "{'Ram': 9867576765, 'Shyam': 9857657}\n"
     ]
    }
   ],
   "source": [
    "a = {}\n",
    "n = int(input(\"Enter n = \"))\n",
    "for i in range(n):\n",
    "    name = input(\"Enter name = \")\n",
    "    phone = int(input(\"Enter Phone = \"))\n",
    "    \n",
    "    a[name] = phone\n",
    "print(a)"
   ]
  },
  {
   "cell_type": "code",
   "execution_count": 24,
   "metadata": {},
   "outputs": [
    {
     "name": "stdout",
     "output_type": "stream",
     "text": [
      "Ram\n",
      "Shyam\n"
     ]
    }
   ],
   "source": [
    "for i in a:\n",
    "    print(i)"
   ]
  },
  {
   "cell_type": "code",
   "execution_count": 26,
   "metadata": {},
   "outputs": [
    {
     "name": "stdout",
     "output_type": "stream",
     "text": [
      "9867576765\n",
      "9857657\n"
     ]
    }
   ],
   "source": [
    "for i in a.values():\n",
    "    print(i)"
   ]
  },
  {
   "cell_type": "code",
   "execution_count": 27,
   "metadata": {},
   "outputs": [
    {
     "name": "stdout",
     "output_type": "stream",
     "text": [
      "('Ram', 9867576765)\n",
      "('Shyam', 9857657)\n"
     ]
    }
   ],
   "source": [
    "for i in a.items():\n",
    "    print(i)"
   ]
  },
  {
   "cell_type": "code",
   "execution_count": 28,
   "metadata": {},
   "outputs": [
    {
     "name": "stdout",
     "output_type": "stream",
     "text": [
      "[('Ram', 9867576765), ('Shyam', 9857657)]\n"
     ]
    }
   ],
   "source": [
    "l = []\n",
    "for i in a.items():\n",
    "    l.append(i)\n",
    "print(l)"
   ]
  },
  {
   "cell_type": "code",
   "execution_count": 31,
   "metadata": {},
   "outputs": [
    {
     "name": "stdout",
     "output_type": "stream",
     "text": [
      "{'Ram': 9867576765, 'Shyam': 9857657}\n"
     ]
    }
   ],
   "source": [
    "d = {}\n",
    "a = [('Ram', 9867576765), ('Shyam', 9857657)]\n",
    "for i in a:\n",
    "    key = i[0]\n",
    "    value = i[1]\n",
    "    d[key] = value\n",
    "print(d)"
   ]
  },
  {
   "cell_type": "code",
   "execution_count": 32,
   "metadata": {},
   "outputs": [
    {
     "ename": "TypeError",
     "evalue": "unsupported operand type(s) for *: 'dict' and 'int'",
     "output_type": "error",
     "traceback": [
      "\u001b[1;31m---------------------------------------------------------------------------\u001b[0m",
      "\u001b[1;31mTypeError\u001b[0m                                 Traceback (most recent call last)",
      "\u001b[1;32m<ipython-input-32-0f1c9414b136>\u001b[0m in \u001b[0;36m<module>\u001b[1;34m\u001b[0m\n\u001b[0;32m      1\u001b[0m \u001b[0ma\u001b[0m \u001b[1;33m=\u001b[0m \u001b[1;33m{\u001b[0m\u001b[1;36m1\u001b[0m\u001b[1;33m:\u001b[0m\u001b[1;34m\"Apple\"\u001b[0m\u001b[1;33m,\u001b[0m\u001b[1;36m2\u001b[0m\u001b[1;33m:\u001b[0m\u001b[1;34m\"Ball\"\u001b[0m\u001b[1;33m}\u001b[0m\u001b[1;33m\u001b[0m\u001b[1;33m\u001b[0m\u001b[0m\n\u001b[1;32m----> 2\u001b[1;33m \u001b[0ma\u001b[0m\u001b[1;33m*\u001b[0m\u001b[1;36m2\u001b[0m\u001b[1;33m\u001b[0m\u001b[1;33m\u001b[0m\u001b[0m\n\u001b[0m",
      "\u001b[1;31mTypeError\u001b[0m: unsupported operand type(s) for *: 'dict' and 'int'"
     ]
    }
   ],
   "source": [
    "a = {1:\"Apple\",2:\"Ball\"}\n",
    "a*2"
   ]
  },
  {
   "cell_type": "code",
   "execution_count": 46,
   "metadata": {},
   "outputs": [],
   "source": [
    "a = {1:\"Apple\",2:\"Ball\"}\n",
    "b = {\"1\":\"AA\"}\n",
    "b.update(a)"
   ]
  },
  {
   "cell_type": "code",
   "execution_count": 47,
   "metadata": {},
   "outputs": [
    {
     "data": {
      "text/plain": [
       "{'1': 'AA', 1: 'Apple', 2: 'Ball'}"
      ]
     },
     "execution_count": 47,
     "metadata": {},
     "output_type": "execute_result"
    }
   ],
   "source": [
    "b"
   ]
  },
  {
   "cell_type": "code",
   "execution_count": 50,
   "metadata": {},
   "outputs": [
    {
     "data": {
      "text/plain": [
       "{'1': 'AA', 2: 'Ball'}"
      ]
     },
     "execution_count": 50,
     "metadata": {},
     "output_type": "execute_result"
    }
   ],
   "source": [
    "b = {'1': 'AA', 1: 'Apple', 2: 'Ball'}\n",
    "del b[1]\n",
    "b"
   ]
  },
  {
   "cell_type": "code",
   "execution_count": 52,
   "metadata": {},
   "outputs": [
    {
     "ename": "TypeError",
     "evalue": "unhashable type: 'slice'",
     "output_type": "error",
     "traceback": [
      "\u001b[1;31m---------------------------------------------------------------------------\u001b[0m",
      "\u001b[1;31mTypeError\u001b[0m                                 Traceback (most recent call last)",
      "\u001b[1;32m<ipython-input-52-f0436e786d30>\u001b[0m in \u001b[0;36m<module>\u001b[1;34m\u001b[0m\n\u001b[0;32m      1\u001b[0m \u001b[0mb\u001b[0m \u001b[1;33m=\u001b[0m \u001b[1;33m{\u001b[0m\u001b[1;36m1\u001b[0m\u001b[1;33m:\u001b[0m\u001b[1;34m\"Apple\"\u001b[0m\u001b[1;33m,\u001b[0m\u001b[1;36m2\u001b[0m\u001b[1;33m:\u001b[0m\u001b[1;34m\"Ball\"\u001b[0m\u001b[1;33m,\u001b[0m\u001b[1;36m3\u001b[0m\u001b[1;33m:\u001b[0m\u001b[1;34m\"cat\"\u001b[0m\u001b[1;33m}\u001b[0m\u001b[1;33m\u001b[0m\u001b[1;33m\u001b[0m\u001b[0m\n\u001b[1;32m----> 2\u001b[1;33m \u001b[1;32mdel\u001b[0m \u001b[0mb\u001b[0m\u001b[1;33m[\u001b[0m\u001b[1;36m1\u001b[0m\u001b[1;33m:\u001b[0m\u001b[1;36m2\u001b[0m\u001b[1;33m]\u001b[0m\u001b[1;33m\u001b[0m\u001b[1;33m\u001b[0m\u001b[0m\n\u001b[0m",
      "\u001b[1;31mTypeError\u001b[0m: unhashable type: 'slice'"
     ]
    }
   ],
   "source": [
    "b = {1:\"Apple\",2:\"Ball\",3:\"cat\"}\n",
    "del b[1:2]"
   ]
  },
  {
   "cell_type": "code",
   "execution_count": 56,
   "metadata": {},
   "outputs": [
    {
     "name": "stdout",
     "output_type": "stream",
     "text": [
      "{1: 'Apple', 3: 'cat'}\n",
      "Ball\n"
     ]
    }
   ],
   "source": [
    "b = {1:\"Apple\",2:\"Ball\",3:\"cat\"}\n",
    "c = b.pop(2)\n",
    "print(b)\n",
    "print(c)"
   ]
  },
  {
   "cell_type": "code",
   "execution_count": 58,
   "metadata": {},
   "outputs": [
    {
     "name": "stdout",
     "output_type": "stream",
     "text": [
      "{}\n"
     ]
    }
   ],
   "source": [
    "b.clear()\n",
    "print(b)"
   ]
  },
  {
   "cell_type": "code",
   "execution_count": null,
   "metadata": {},
   "outputs": [],
   "source": [
    "a = {\"a\":[]} \n",
    "b = {\"a\":()}\n",
    "c = {\"a\":{}}"
   ]
  },
  {
   "cell_type": "code",
   "execution_count": 62,
   "metadata": {},
   "outputs": [
    {
     "data": {
      "text/plain": [
       "{('Apple', 'Ball'): 'a'}"
      ]
     },
     "execution_count": 62,
     "metadata": {},
     "output_type": "execute_result"
    }
   ],
   "source": [
    "a = {(\"Apple\",\"Ball\"):\"a\"}\n",
    "a"
   ]
  },
  {
   "cell_type": "code",
   "execution_count": 64,
   "metadata": {},
   "outputs": [
    {
     "name": "stdout",
     "output_type": "stream",
     "text": [
      "['apple', 'ant']\n",
      "apple\n"
     ]
    }
   ],
   "source": [
    "# list inside dicts\n",
    "a = {\"a\":[\"apple\",\"ant\"]} \n",
    "print(a[\"a\"])\n",
    "print(a[\"a\"][0])"
   ]
  },
  {
   "cell_type": "code",
   "execution_count": 66,
   "metadata": {},
   "outputs": [
    {
     "name": "stdout",
     "output_type": "stream",
     "text": [
      "{'a': ['apple', 'ant', 'Apple']}\n"
     ]
    }
   ],
   "source": [
    "a = {\"a\":[\"apple\",\"ant\"]} \n",
    "a[\"a\"].append(\"Apple\")\n",
    "print(a)"
   ]
  },
  {
   "cell_type": "code",
   "execution_count": 71,
   "metadata": {},
   "outputs": [
    {
     "data": {
      "text/plain": [
       "{1: 'Apple', 3: 'Cat'}"
      ]
     },
     "execution_count": 71,
     "metadata": {},
     "output_type": "execute_result"
    }
   ],
   "source": [
    "b = {1:\"Apple\",2:\"Ball\",3:\"Cat\"}\n",
    "c = b.pop(2)\n",
    "b"
   ]
  },
  {
   "cell_type": "code",
   "execution_count": 72,
   "metadata": {},
   "outputs": [
    {
     "name": "stdout",
     "output_type": "stream",
     "text": [
      "{1: 'Apple', 3: 'Cat', 2: 'Ball'}\n"
     ]
    }
   ],
   "source": [
    "b[2]=c\n",
    "print(b)"
   ]
  },
  {
   "cell_type": "code",
   "execution_count": 74,
   "metadata": {},
   "outputs": [
    {
     "name": "stdout",
     "output_type": "stream",
     "text": [
      "Enter n = 2\n",
      "Enter name = Ram\n",
      "Enter ntc no = 98789789\n",
      "Enter ncell no = 987987898\n",
      "Enter name = Syam\n",
      "Enter ntc no = 98890809\n",
      "Enter ncell no = 897897\n",
      "{0: ['Ram', 98789789, 987987898], 1: ['Syam', 98890809, 897897]}\n"
     ]
    }
   ],
   "source": [
    "d = {}\n",
    "n = int(input(\"Enter n = \"))\n",
    "for i in range(n):\n",
    "    name = input(\"Enter name = \")\n",
    "    ntc = int(input(\"Enter ntc no = \"))\n",
    "    ncell = int(input(\"Enter ncell no = \"))\n",
    "    d[i] = [name,ntc,ncell]\n",
    "    \n",
    "print(d)"
   ]
  },
  {
   "cell_type": "code",
   "execution_count": 79,
   "metadata": {},
   "outputs": [
    {
     "name": "stdout",
     "output_type": "stream",
     "text": [
      "['Ram', 98789789, 987987898]\n"
     ]
    }
   ],
   "source": [
    "for i in d.values():\n",
    "    if \"Ram\" in i:\n",
    "        print(i)"
   ]
  },
  {
   "cell_type": "code",
   "execution_count": null,
   "metadata": {},
   "outputs": [],
   "source": [
    "d = {}\n",
    "n = int(input(\"Enter n = \"))\n",
    "for i in range(n):\n",
    "    name = input(\"Enter name = \")\n",
    "    ntc = int(input(\"Enter ntc no = \"))\n",
    "    ncell = int(input(\"Enter ncell no = \"))\n",
    "    d[i] = (name,ntc,ncell)\n",
    "    \n",
    "print(d)"
   ]
  },
  {
   "cell_type": "code",
   "execution_count": 11,
   "metadata": {},
   "outputs": [
    {
     "data": {
      "text/plain": [
       "{'Ram': {'Ncell': 98878768, 'Ntc': 98765576},\n",
       " 'Shyam': {'Ncell': 98776776, 'Nct': 98765676}}"
      ]
     },
     "execution_count": 11,
     "metadata": {},
     "output_type": "execute_result"
    }
   ],
   "source": [
    "# d = {<Key>:{<key>:<value>},...}\n",
    "d = {\"Ram\":{\"Ncell\":98878768,\"Ntc\":98765576},\n",
    "    \"Shyam\":{\"Ncell\":98776776,\"Nct\":98765676}}\n",
    "d"
   ]
  },
  {
   "cell_type": "code",
   "execution_count": 12,
   "metadata": {},
   "outputs": [
    {
     "name": "stdout",
     "output_type": "stream",
     "text": [
      "{'Ncell': 98878768, 'Ntc': 98765576}\n",
      "{'Ncell': 98776776, 'Nct': 98765676}\n"
     ]
    }
   ],
   "source": [
    "for i in d.values():\n",
    "    print(i)"
   ]
  },
  {
   "cell_type": "code",
   "execution_count": 13,
   "metadata": {},
   "outputs": [
    {
     "name": "stdout",
     "output_type": "stream",
     "text": [
      "('Ram', {'Ncell': 98878768, 'Ntc': 98765576})\n",
      "('Shyam', {'Ncell': 98776776, 'Nct': 98765676})\n"
     ]
    }
   ],
   "source": [
    "for i in d.items():\n",
    "    print(i)"
   ]
  },
  {
   "cell_type": "code",
   "execution_count": 14,
   "metadata": {},
   "outputs": [
    {
     "name": "stdout",
     "output_type": "stream",
     "text": [
      "{'Ram': {'Ncell': 98878768, 'Ntc': 98765576}, 'Shyam': {'Ncell': 98776776, 'Nct': 98765676}}\n",
      "{'Ncell': 98878768, 'Ntc': 98765576}\n",
      "98878768\n"
     ]
    }
   ],
   "source": [
    "print(d)\n",
    "print(d[\"Ram\"])\n",
    "print(d[\"Ram\"][\"Ncell\"])"
   ]
  },
  {
   "cell_type": "code",
   "execution_count": 16,
   "metadata": {},
   "outputs": [
    {
     "name": "stdout",
     "output_type": "stream",
     "text": [
      "Enter n = 2\n",
      "Enter name = sfdf\n",
      "Enter ncell = 23423\n",
      "Enter ntc = 2423434\n",
      "Enter name = dfsfds\n",
      "Enter ncell = 234234\n",
      "Enter ntc = 234234\n",
      "{'sfdf': {'ncell': '23423', 'ntc': '2423434'}, 'dfsfds': {'ncell': '234234', 'ntc': '234234'}}\n"
     ]
    }
   ],
   "source": [
    "data = {}\n",
    "n = int(input(\"Enter n = \"))\n",
    "for i in range(n):\n",
    "    name = input(\"Enter name = \")\n",
    "    ncell = input(\"Enter ncell = \")\n",
    "    ntc = input(\"Enter ntc = \")\n",
    "    v = {\"ncell\":ncell,\"ntc\":ntc}\n",
    "    data[name] = v\n",
    "print(data)"
   ]
  },
  {
   "cell_type": "code",
   "execution_count": 17,
   "metadata": {},
   "outputs": [
    {
     "data": {
      "text/plain": [
       "{'Ram': {'Ncell': 98878768, 'Ntc': 9876765},\n",
       " 'Shyam': {'Ncell': 98776776, 'Nct': 98765676}}"
      ]
     },
     "execution_count": 17,
     "metadata": {},
     "output_type": "execute_result"
    }
   ],
   "source": [
    "a = {'Ram': {'Ncell': 98878768, 'Ntc': 98765576}, \n",
    "     'Shyam': {'Ncell': 98776776, 'Nct': 98765676}}\n",
    "a['Ram']['Ntc'] = 9876765\n",
    "a"
   ]
  },
  {
   "cell_type": "code",
   "execution_count": 19,
   "metadata": {},
   "outputs": [
    {
     "data": {
      "text/plain": [
       "{'Ram': {'Ncell': 98878768, 'Ntc': 9876765, 'Land': 4456556},\n",
       " 'Shyam': {'Ncell': 98776776, 'Nct': 98765676}}"
      ]
     },
     "execution_count": 19,
     "metadata": {},
     "output_type": "execute_result"
    }
   ],
   "source": [
    "a['Ram']['Land'] = 4456556\n",
    "a"
   ]
  },
  {
   "cell_type": "code",
   "execution_count": null,
   "metadata": {},
   "outputs": [],
   "source": [
    "# a = [{<key>:<value>},{<key>:<value>}]"
   ]
  },
  {
   "cell_type": "code",
   "execution_count": 21,
   "metadata": {},
   "outputs": [],
   "source": [
    "a = [{\"title\":\"Glass\",\"price\":350,\"description\":\"good glass\",\"discounted_price\":100,\"status\":\"In\",\"label\":\"hot\",\"image\":\"http://127.0.0.1:8000/media/media/top_10_symbolic_chinese_foods__from_fish_to_fowl02846bb27ede533c3513.jpg\",\"category\":3,\"brand\":1},{\"title\":\"T shirt\",\"price\":1000,\"description\":\"cool fashion\",\"discounted_price\":999,\"status\":\"In\",\"label\":\"hot\",\"image\":\"http://127.0.0.1:8000/media/https%3A/static-01.daraz.com.np/p/0508473781e3ea5ebbafdec2b13c8d75.jpg_170x170q80-product.jpg_.webp\",\"category\":3,\"brand\":1},{\"title\":\"Head Phone\",\"price\":2000,\"description\":\"This head phone have good sound quality.\",\"discounted_price\":1999,\"status\":\"In\",\"label\":\"new\",\"image\":\"http://127.0.0.1:8000/media/media/chinese.jpg\",\"category\":1,\"brand\":1},{\"title\":\"Acer laptop\",\"price\":350,\"description\":\"dsddasdas\",\"discounted_price\":0,\"status\":\"In\",\"label\":\"new\",\"image\":\"http://127.0.0.1:8000/media/media/soup_pNgz9Jg.jpg\",\"category\":1,\"brand\":1}]"
   ]
  },
  {
   "cell_type": "code",
   "execution_count": 26,
   "metadata": {},
   "outputs": [
    {
     "name": "stdout",
     "output_type": "stream",
     "text": [
      "Glass 350\n",
      "T shirt 1000\n",
      "Head Phone 2000\n",
      "Acer laptop 350\n"
     ]
    }
   ],
   "source": [
    "for i in a:\n",
    "    print(i[\"title\"],i['price'])\n"
   ]
  },
  {
   "cell_type": "code",
   "execution_count": 27,
   "metadata": {},
   "outputs": [],
   "source": [
    "a = [{\"title\":\"Glass\",\"price\":350,\"description\":\"good glass\",\"discounted_price\":100,\"status\":\"In\",\"label\":\"hot\",\"image\":\"http://127.0.0.1:8000/media/media/top_10_symbolic_chinese_foods__from_fish_to_fowl02846bb27ede533c3513.jpg\",\"category\":3,\"brand\":1},\n",
    "     {\"title\":\"T shirt\",\"price\":1000,\"description\":\"cool fashion\",\"discounted_price\":999,\"status\":\"In\",\"label\":\"hot\",\"image\":\"http://127.0.0.1:8000/media/https%3A/static-01.daraz.com.np/p/0508473781e3ea5ebbafdec2b13c8d75.jpg_170x170q80-product.jpg_.webp\",\"category\":3,\"brand\":1},\n",
    "     {\"title\":\"Head Phone\",\"price\":2000,\"description\":\"This head phone have good sound quality.\",\"discounted_price\":1999,\"status\":\"In\",\"label\":\"new\",\"image\":\"http://127.0.0.1:8000/media/media/chinese.jpg\",\"category\":1,\"brand\":1},\n",
    "     {\"title\":\"Acer laptop\",\"price\":350,\"description\":\"dsddasdas\",\"discounted_price\":0,\"status\":\"In\",\"label\":\"new\",\"image\":\"http://127.0.0.1:8000/media/media/soup_pNgz9Jg.jpg\",\"category\":1,\"brand\":1}]\n",
    "b = {\"title\":\"Dell laptop\",\"price\":35000,\"description\":\"dsddasdas\",\"discounted_price\":0,\"status\":\"In\",\"label\":\"new\",\"image\":\"soup_pNgz9Jg.jpg\",\"category\":1,\"brand\":1}\n",
    "a.append(b)"
   ]
  },
  {
   "cell_type": "code",
   "execution_count": 29,
   "metadata": {},
   "outputs": [
    {
     "name": "stdout",
     "output_type": "stream",
     "text": [
      "[{'title': 'Glass', 'price': 350, 'description': 'good glass', 'discounted_price': 100, 'status': 'In', 'label': 'hot', 'image': 'http://127.0.0.1:8000/media/media/top_10_symbolic_chinese_foods__from_fish_to_fowl02846bb27ede533c3513.jpg', 'category': 3, 'brand': 1}, {'title': 'T shirt', 'price': 1000, 'description': 'cool fashion', 'discounted_price': 999, 'status': 'In', 'label': 'hot', 'image': 'http://127.0.0.1:8000/media/https%3A/static-01.daraz.com.np/p/0508473781e3ea5ebbafdec2b13c8d75.jpg_170x170q80-product.jpg_.webp', 'category': 3, 'brand': 1}, {'title': 'Head Phone', 'price': 2000, 'description': 'This head phone have good sound quality.', 'discounted_price': 1999, 'status': 'In', 'label': 'new', 'image': 'http://127.0.0.1:8000/media/media/chinese.jpg', 'category': 1, 'brand': 1}, {'title': 'Acer laptop', 'price': 350, 'description': 'dsddasdas', 'discounted_price': 0, 'status': 'In', 'label': 'new', 'image': 'http://127.0.0.1:8000/media/media/soup_pNgz9Jg.jpg', 'category': 1, 'brand': 1}, {'title': 'Dell laptop', 'price': 35000, 'description': 'dsddasdas', 'discounted_price': 0, 'status': 'In', 'label': 'new', 'image': 'soup_pNgz9Jg.jpg', 'category': 1, 'brand': 1}]\n"
     ]
    }
   ],
   "source": [
    "print(a)"
   ]
  },
  {
   "cell_type": "code",
   "execution_count": null,
   "metadata": {},
   "outputs": [],
   "source": []
  }
 ],
 "metadata": {
  "kernelspec": {
   "display_name": "Python 3",
   "language": "python",
   "name": "python3"
  },
  "language_info": {
   "codemirror_mode": {
    "name": "ipython",
    "version": 3
   },
   "file_extension": ".py",
   "mimetype": "text/x-python",
   "name": "python",
   "nbconvert_exporter": "python",
   "pygments_lexer": "ipython3",
   "version": "3.7.1"
  }
 },
 "nbformat": 4,
 "nbformat_minor": 2
}
