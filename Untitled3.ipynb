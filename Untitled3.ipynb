{
 "cells": [
  {
   "cell_type": "code",
   "execution_count": 1,
   "metadata": {},
   "outputs": [],
   "source": [
    "# inheritance"
   ]
  },
  {
   "cell_type": "code",
   "execution_count": 4,
   "metadata": {},
   "outputs": [
    {
     "name": "stdout",
     "output_type": "stream",
     "text": [
      "This is class A\n",
      "This is class B\n"
     ]
    }
   ],
   "source": [
    "class A:\n",
    "    print(\"This is class A\")\n",
    "class B(A):\n",
    "    print(\"This is class B\")\n",
    "    \n",
    "\n",
    "obj2 = B()"
   ]
  },
  {
   "cell_type": "code",
   "execution_count": 11,
   "metadata": {},
   "outputs": [
    {
     "name": "stdout",
     "output_type": "stream",
     "text": [
      "Shyam 23\n",
      "Shyam 23\n"
     ]
    }
   ],
   "source": [
    "class A:\n",
    "    def __init__(self,name,age):\n",
    "        self.name = name\n",
    "        self.age = age\n",
    "        \n",
    "    def a(self):\n",
    "        print(self.name,self.age)\n",
    "        \n",
    "class B(A):\n",
    "    def b(self):\n",
    "        print(self.name,self.age)\n",
    "    \n",
    "# obj = A(\"Ram\",45)\n",
    "obj1 = B(\"Shyam\",23)\n",
    "obj1.b()\n",
    "obj1.a()\n",
    "# print(obj.name)\n",
    "# print(obj.age)"
   ]
  },
  {
   "cell_type": "code",
   "execution_count": 15,
   "metadata": {},
   "outputs": [
    {
     "name": "stdout",
     "output_type": "stream",
     "text": [
      "Enter l = 10\n",
      "Enter b = 3\n",
      "Enter h = 4\n",
      "120\n"
     ]
    }
   ],
   "source": [
    "class Cal:\n",
    "    def __init__(self):\n",
    "        self.l = int(input(\"Enter l = \"))\n",
    "        self.b = int(input(\"Enter b = \"))\n",
    "        self.h = int(input(\"Enter h = \"))\n",
    "class Volume(Cal):\n",
    "    def volume(self):\n",
    "        v = self.l*self.b*self.h\n",
    "        print(v)\n",
    "    \n",
    "# obj = Cal()\n",
    "obj1 = Volume()\n",
    "obj1.volume()"
   ]
  },
  {
   "cell_type": "code",
   "execution_count": 19,
   "metadata": {},
   "outputs": [
    {
     "name": "stdout",
     "output_type": "stream",
     "text": [
      "Enter h = 10\n",
      "Enter l = 20\n",
      "Enter b = 30\n",
      "6000\n"
     ]
    }
   ],
   "source": [
    "class Cal:\n",
    "    def __init__(self):\n",
    "        self.l = int(input(\"Enter l = \"))\n",
    "        self.b = int(input(\"Enter b = \"))\n",
    "\n",
    "    def area(self):\n",
    "        a = self.l*self.b\n",
    "        return a\n",
    "    \n",
    "class Volume(Cal):\n",
    "    def __init__(self):\n",
    "        self.h = int(input(\"Enter h = \"))\n",
    "        Cal.__init__(self)\n",
    "    def volume(self):\n",
    "        v = self.l*self.b*self.h\n",
    "        print(v)\n",
    "    \n",
    "# obj = Cal()\n",
    "obj1 = Volume()\n",
    "obj1.volume()"
   ]
  },
  {
   "cell_type": "code",
   "execution_count": 3,
   "metadata": {},
   "outputs": [
    {
     "name": "stdout",
     "output_type": "stream",
     "text": [
      "Enter salary = 1000\n",
      "Enter name = Ram\n",
      "Enter post = CEO\n",
      "Hello Ram your post is CEO and salary is 1000\n",
      "Ram CEO 1000\n"
     ]
    }
   ],
   "source": [
    "class Hr:\n",
    "    def __init__(self):\n",
    "        self.name = input(\"Enter name = \")\n",
    "        self.post = input(\"Enter post = \")\n",
    "\n",
    "    def hr(self):\n",
    "        a = f\"Hello {self.name} your post is {self.post}\"\n",
    "        return a\n",
    "    \n",
    "class Office(Hr):\n",
    "    def __init__(self):\n",
    "        self.salary = int(input(\"Enter salary = \"))\n",
    "        Hr.__init__(self)\n",
    "    def office(self):\n",
    "        v = f\"Hello {self.name} your post is {self.post} and salary is {self.salary}\"\n",
    "        print(v)\n",
    "    \n",
    "# obj = Cal()\n",
    "obj1 = Office()\n",
    "obj1.office()\n",
    "obj1.hr()\n",
    "print(obj1.name,obj1.post,obj1.salary)"
   ]
  },
  {
   "cell_type": "code",
   "execution_count": 5,
   "metadata": {},
   "outputs": [
    {
     "name": "stdout",
     "output_type": "stream",
     "text": [
      "Enter salary = 10000\n",
      "Enter name = Ram\n",
      "Enter post = CEO\n",
      "Hello Ram your salary is 10000\n",
      "Hello Ram your post is CEO\n",
      "10000\n"
     ]
    }
   ],
   "source": [
    "class Hr:\n",
    "    def __init__(self):\n",
    "        self._name = input(\"Enter name = \") #protected\n",
    "        self.__post = input(\"Enter post = \")\n",
    "\n",
    "    def hr(self):\n",
    "        a = f\"Hello {self._name} your post is {self.__post}\"\n",
    "        return a\n",
    "    \n",
    "class Office(Hr):\n",
    "    def __init__(self):\n",
    "        self.salary = int(input(\"Enter salary = \"))\n",
    "        Hr.__init__(self)\n",
    "    def office(self):\n",
    "        v = f\"Hello {self._name} your salary is {self.salary}\"\n",
    "        print(v)\n",
    "    \n",
    "# obj = Cal()\n",
    "obj1 = Office()\n",
    "obj1.office()\n",
    "print(obj1.hr())\n",
    "print(obj1.salary)"
   ]
  },
  {
   "cell_type": "code",
   "execution_count": null,
   "metadata": {},
   "outputs": [],
   "source": [
    "class Hr:\n",
    "    def __init__(self):\n",
    "        self._name = input(\"Enter name = \") #protected\n",
    "        self.__post = input(\"Enter post = \")\n",
    "\n",
    "    def hr(self):\n",
    "        a = f\"Hello {self._name} your post is {self.__post}\"\n",
    "        return a\n",
    "    \n",
    "class Office(Hr):\n",
    "    def __init__(self):\n",
    "        self.salary = int(input(\"Enter salary = \"))\n",
    "        Hr.__init__(self)\n",
    "    def office(self):\n",
    "        v = f\"Hello {self._name} your salary is {self.salary}\"\n",
    "        print(v)\n",
    "    \n",
    "# obj = Cal()\n",
    "obj1 = Office()\n",
    "obj1.office()\n",
    "print(obj1.hr())\n",
    "print(obj1.salary)"
   ]
  },
  {
   "cell_type": "code",
   "execution_count": 9,
   "metadata": {},
   "outputs": [
    {
     "name": "stdout",
     "output_type": "stream",
     "text": [
      "Ram 67 Kathmandu\n",
      "Ram 67 Kathmandu\n"
     ]
    }
   ],
   "source": [
    "# private attributes\n",
    "class Info:\n",
    "    def __init__(self,name,age,add):\n",
    "        self.__name = name\n",
    "        self.__age = age\n",
    "        self.__add = add\n",
    "    def info(self):\n",
    "        print(self.__name,self.__age,self.__add)\n",
    "        \n",
    "obj = Info(\"Ram\",67,\"Kathmandu\")\n",
    "obj.info()\n",
    "print(obj._Info__name,obj._Info__age,obj._Info__add)"
   ]
  },
  {
   "cell_type": "code",
   "execution_count": null,
   "metadata": {},
   "outputs": [],
   "source": [
    "class Hr:\n",
    "    def __init__(self):\n",
    "        self._name = input(\"Enter name = \") #protected\n",
    "        self.__post = input(\"Enter post = \")\n",
    "\n",
    "    def hr(self):\n",
    "        a = f\"Hello {self._name} your post is {self.__post}\"\n",
    "        return a\n",
    "    \n",
    "class Office(Hr):\n",
    "    def __init__(self):\n",
    "        self.salary = int(input(\"Enter salary = \"))\n",
    "        Hr.__init__(self)\n",
    "    def office(self):\n",
    "        v = f\"Hello {self._name} your post is {self._Hr__post} your salary is {self.salary}\"\n",
    "        print(v)\n",
    "    \n",
    "# obj = Cal()\n",
    "obj1 = Office()\n",
    "obj1.office()\n",
    "print(obj1.hr())\n",
    "print(obj1.salary)"
   ]
  },
  {
   "cell_type": "code",
   "execution_count": 10,
   "metadata": {},
   "outputs": [
    {
     "name": "stdout",
     "output_type": "stream",
     "text": [
      "Enter salary = 10000\n",
      "Enter name = Ram\n",
      "Enter post = CEO\n",
      "Hello Ram your post is CEO your salary is 10000\n",
      "Hello Ram your post is CEO\n",
      "10000\n"
     ]
    }
   ],
   "source": [
    "class Hr:\n",
    "    def __init__(self):\n",
    "        self._name = input(\"Enter name = \") #protected\n",
    "        self.__post = input(\"Enter post = \")\n",
    "\n",
    "    def hr(self):\n",
    "        a = f\"Hello {self._name} your post is {self.__post}\"\n",
    "        return a\n",
    "    \n",
    "class Office(Hr):\n",
    "    def __init__(self):\n",
    "        self.salary = int(input(\"Enter salary = \"))\n",
    "        Hr.__init__(self)\n",
    "    def office(self):\n",
    "        v = f\"{super().hr()} your salary is {self.salary}\"\n",
    "        print(v)\n",
    "        \n",
    "    \n",
    "# obj = Cal()\n",
    "obj1 = Office()\n",
    "obj1.office()\n",
    "print(obj1.hr())\n",
    "print(obj1.salary)"
   ]
  },
  {
   "cell_type": "code",
   "execution_count": 12,
   "metadata": {},
   "outputs": [
    {
     "name": "stdout",
     "output_type": "stream",
     "text": [
      "Enter salary = 10000\n",
      "Enter name = ram\n",
      "Enter post = CEO\n",
      "Hello ram your post is CEO your salary is 10000\n",
      "Hello ram your post is CEO\n",
      "None\n",
      "10000\n"
     ]
    }
   ],
   "source": [
    "class Hr:\n",
    "    def __init__(self):\n",
    "        self._name = input(\"Enter name = \") #protected\n",
    "        self.__post = input(\"Enter post = \")\n",
    "\n",
    "    def hr(self):\n",
    "        a = f\"Hello {self._name} your post is {self.__post}\"\n",
    "        return a\n",
    "    \n",
    "class Office(Hr):\n",
    "    def __init__(self):\n",
    "        self.salary = int(input(\"Enter salary = \"))\n",
    "        Hr.__init__(self)\n",
    "        \n",
    "    def inhetit_hr(self):\n",
    "        print(super().hr())\n",
    "    def office(self):\n",
    "        v = f\"Hello {self._name} your post is {self._Hr__post} your salary is {self.salary}\"\n",
    "        print(v)\n",
    "\n",
    "# obj = Cal()\n",
    "obj1 = Office()\n",
    "obj1.office()\n",
    "print(obj1.inhetit_hr())\n",
    "print(obj1.salary)"
   ]
  },
  {
   "cell_type": "code",
   "execution_count": null,
   "metadata": {},
   "outputs": [],
   "source": []
  }
 ],
 "metadata": {
  "kernelspec": {
   "display_name": "Python 3",
   "language": "python",
   "name": "python3"
  }
 },
 "nbformat": 4,
 "nbformat_minor": 2
}
