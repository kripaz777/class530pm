{
 "cells": [
  {
   "cell_type": "code",
   "execution_count": 1,
   "metadata": {},
   "outputs": [],
   "source": [
    "# b = open(<file_name>,<modes>)"
   ]
  },
  {
   "cell_type": "code",
   "execution_count": 4,
   "metadata": {},
   "outputs": [
    {
     "name": "stdout",
     "output_type": "stream",
     "text": [
      "The file is already there.\n"
     ]
    }
   ],
   "source": [
    "try:\n",
    "    b = open('class530.txt','x')\n",
    "    b.close()\n",
    "except:\n",
    "    print(\"The file is already there.\")"
   ]
  },
  {
   "cell_type": "code",
   "execution_count": 5,
   "metadata": {},
   "outputs": [
    {
     "name": "stdout",
     "output_type": "stream",
     "text": [
      "1.Hello World\n",
      "2.Hello World\n",
      "3.Hello World\n",
      "4.Hello World\n",
      "5.Hello World\n",
      "6.Hello World\n",
      "\n"
     ]
    }
   ],
   "source": [
    "#read() #reading content from file\n",
    "b = open('class530.txt','r')\n",
    "c = b.read()\n",
    "print(c)"
   ]
  },
  {
   "cell_type": "code",
   "execution_count": 7,
   "metadata": {},
   "outputs": [
    {
     "name": "stdout",
     "output_type": "stream",
     "text": [
      "1.Hello World\n",
      "2.Hello World\n",
      "3.Hello World\n",
      "4.Hello World\n",
      "5.Hello World\n",
      "6.Hello World\n",
      "\n"
     ]
    }
   ],
   "source": [
    "#read() #reading content from file\n",
    "b = open('class530.txt','r')\n",
    "c = b.read()\n",
    "print(c)"
   ]
  },
  {
   "cell_type": "code",
   "execution_count": 10,
   "metadata": {},
   "outputs": [
    {
     "name": "stdout",
     "output_type": "stream",
     "text": [
      "1.Hello World\n",
      "\n",
      "2.Hello World\n",
      "\n"
     ]
    }
   ],
   "source": [
    "#read() #reading content from file\n",
    "b = open('class530.txt','r')\n",
    "print(b.readline())\n",
    "print(b.readline())"
   ]
  },
  {
   "cell_type": "code",
   "execution_count": 11,
   "metadata": {},
   "outputs": [],
   "source": [
    "b = open('class530.txt','w')\n",
    "b.write('Hello World')\n",
    "b.close()"
   ]
  },
  {
   "cell_type": "code",
   "execution_count": 17,
   "metadata": {},
   "outputs": [
    {
     "name": "stdout",
     "output_type": "stream",
     "text": [
      "Enter n = 2\n",
      "Enter name = Ram\n",
      "Enter age =78\n",
      "Enter address = Kathmandu\n",
      "Enter name = Shyam\n",
      "Enter age =56\n",
      "Enter address = Patan\n"
     ]
    }
   ],
   "source": [
    "b = open('class530.csv','w')\n",
    "b.write(\"Sn,Name,Address,Age\\n\")\n",
    "data = \"\"\n",
    "n = int(input(\"Enter n = \"))\n",
    "for i in range(1,n+1):\n",
    "    name = input(\"Enter name = \")\n",
    "    age = int(input(\"Enter age =\"))\n",
    "    add = input(\"Enter address = \")\n",
    "    info = f\"{i},{name},{add},{age}\\n\"\n",
    "    data = data+info\n",
    "    \n",
    "b.write(data)\n",
    "b.close()"
   ]
  },
  {
   "cell_type": "code",
   "execution_count": 21,
   "metadata": {},
   "outputs": [
    {
     "name": "stdout",
     "output_type": "stream",
     "text": [
      "Sn,Name,Address,Age\n",
      "1,Ram,Kathmandu,78\n",
      "2,Shyam,Patan,56\n",
      "\n",
      "<class 'str'>\n"
     ]
    }
   ],
   "source": [
    "b = open('class530.csv','r')\n",
    "c = b.read()\n",
    "print(c)\n",
    "print(type(c))\n",
    "b.close()"
   ]
  },
  {
   "cell_type": "code",
   "execution_count": 24,
   "metadata": {},
   "outputs": [
    {
     "name": "stdout",
     "output_type": "stream",
     "text": [
      "['Sn,Name,Address,Age', '1,Ram,Kathmandu,78', '2,Shyam,Patan,56', '']\n"
     ]
    }
   ],
   "source": [
    "d = c.split('\\n')\n",
    "print(d)"
   ]
  },
  {
   "cell_type": "code",
   "execution_count": 26,
   "metadata": {},
   "outputs": [
    {
     "data": {
      "text/plain": [
       "['1', 'Ram', 'Kathmandu', '78']"
      ]
     },
     "execution_count": 26,
     "metadata": {},
     "output_type": "execute_result"
    }
   ],
   "source": [
    "e = d[1:-1]\n",
    "e[0].split(',')"
   ]
  },
  {
   "cell_type": "code",
   "execution_count": 28,
   "metadata": {},
   "outputs": [
    {
     "name": "stdout",
     "output_type": "stream",
     "text": [
      "[['1', 'Ram', 'Kathmandu', '78'], ['2', 'Shyam', 'Patan', '56']]\n"
     ]
    }
   ],
   "source": [
    "final_data = []\n",
    "for i in e:\n",
    "    x = i.split(',')\n",
    "    final_data.append(x)\n",
    "print(final_data)"
   ]
  },
  {
   "cell_type": "code",
   "execution_count": 30,
   "metadata": {},
   "outputs": [
    {
     "data": {
      "text/plain": [
       "[['1', 'Ram', 'Kathmandu', ''], ['2', 'Shyam', 'Patan', '56']]"
      ]
     },
     "execution_count": 30,
     "metadata": {},
     "output_type": "execute_result"
    }
   ],
   "source": [
    "final_data[0][-1] = \"\"\n",
    "final_data"
   ]
  },
  {
   "cell_type": "code",
   "execution_count": 31,
   "metadata": {},
   "outputs": [
    {
     "data": {
      "text/plain": [
       "'Untitled Folder\\\\class530.txt'"
      ]
     },
     "execution_count": 31,
     "metadata": {},
     "output_type": "execute_result"
    }
   ],
   "source": [
    "import shutil\n",
    "src = 'class530.txt'\n",
    "dst = 'Untitled Folder'\n",
    "shutil.copy(src, dst)\n"
   ]
  },
  {
   "cell_type": "code",
   "execution_count": 34,
   "metadata": {},
   "outputs": [
    {
     "data": {
      "text/plain": [
       "'../Desktop/class530Folder'"
      ]
     },
     "execution_count": 34,
     "metadata": {},
     "output_type": "execute_result"
    }
   ],
   "source": [
    "import shutil\n",
    "src = 'Untitled Folder'\n",
    "dst = '../Desktop/class530Folder'\n",
    "shutil.copytree(src, dst)\n"
   ]
  },
  {
   "cell_type": "code",
   "execution_count": null,
   "metadata": {},
   "outputs": [],
   "source": []
  }
 ],
 "metadata": {
  "kernelspec": {
   "display_name": "Python 3",
   "language": "python",
   "name": "python3"
  },
  "language_info": {
   "codemirror_mode": {
    "name": "ipython",
    "version": 3
   },
   "file_extension": ".py",
   "mimetype": "text/x-python",
   "name": "python",
   "nbconvert_exporter": "python",
   "pygments_lexer": "ipython3",
   "version": "3.7.1"
  }
 },
 "nbformat": 4,
 "nbformat_minor": 2
}
