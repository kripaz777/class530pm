{
 "cells": [
  {
   "cell_type": "code",
   "execution_count": 3,
   "metadata": {},
   "outputs": [
    {
     "name": "stdout",
     "output_type": "stream",
     "text": [
      "Enter your age  = Ten\n",
      "You should enter int\n"
     ]
    }
   ],
   "source": [
    "try:\n",
    "    age = int(input(\"Enter your age  = \"))\n",
    "except:\n",
    "    print(\"You should enter int\")"
   ]
  },
  {
   "cell_type": "code",
   "execution_count": 5,
   "metadata": {},
   "outputs": [
    {
     "name": "stdout",
     "output_type": "stream",
     "text": [
      "Enter a = 10\n",
      "Enter b = 0\n",
      "The error occured \n",
      "Enter a = Ten\n",
      "The error occured \n",
      "Enter a = 10\n",
      "Enter b = 0\n",
      "The error occured \n",
      "Enter a = 10\n",
      "Enter b = 2\n",
      "5.0\n"
     ]
    }
   ],
   "source": [
    "def cal():\n",
    "    try:\n",
    "        a = int(input(\"Enter a = \"))\n",
    "        b = int(input(\"Enter b = \"))\n",
    "        c = a/b\n",
    "        print(c)\n",
    "    except:\n",
    "        print(\"The error occured \")\n",
    "        cal()\n",
    "        \n",
    "cal()"
   ]
  },
  {
   "cell_type": "code",
   "execution_count": 10,
   "metadata": {},
   "outputs": [
    {
     "name": "stdout",
     "output_type": "stream",
     "text": [
      "Enter a = 10\n",
      "Enter b = 0\n",
      "The value of b can not be zero\n"
     ]
    }
   ],
   "source": [
    "def cal():\n",
    "    try:\n",
    "        a = int(input(\"Enter a = \"))\n",
    "        b = int(input(\"Enter b = \"))\n",
    "        c = a/b\n",
    "        print(c)\n",
    "    except ValueError :\n",
    "        print(\"The value of a and b should be int.\")\n",
    "        cal()\n",
    "    except ZeroDivisionError:\n",
    "        print(\"The value of b can not be zero\")\n",
    "        cal()\n",
    "cal()"
   ]
  },
  {
   "cell_type": "code",
   "execution_count": 12,
   "metadata": {},
   "outputs": [
    {
     "name": "stdout",
     "output_type": "stream",
     "text": [
      "Enter a = 10\n",
      "Enter b = 3\n",
      "3.3333333333333335\n"
     ]
    }
   ],
   "source": [
    "def cal():\n",
    "    try:\n",
    "        a = int(input(\"Enter a = \"))\n",
    "        b = int(input(\"Enter b = \"))\n",
    "        c = a/b\n",
    "    except ValueError :\n",
    "        print(\"The value of a and b should be int.\")\n",
    "        cal()\n",
    "    except ZeroDivisionError:\n",
    "        print(\"The value of b can not be zero\")\n",
    "    else:\n",
    "        print(c)\n",
    "        \n",
    "cal()"
   ]
  },
  {
   "cell_type": "code",
   "execution_count": 15,
   "metadata": {},
   "outputs": [],
   "source": [
    "try:\n",
    "    b = open('untitled.txt','r')\n",
    "    b.close()\n",
    "except:\n",
    "    print(\"The file is not there.\")"
   ]
  },
  {
   "cell_type": "code",
   "execution_count": 24,
   "metadata": {},
   "outputs": [
    {
     "name": "stdout",
     "output_type": "stream",
     "text": [
      "Enter a = 10\n",
      "Enter b = 0\n",
      "The value of b can not be zero\n",
      "Enter a = 10\n",
      "Enter b = 2\n",
      "5.0\n"
     ]
    },
    {
     "data": {
      "text/plain": [
       "2"
      ]
     },
     "execution_count": 24,
     "metadata": {},
     "output_type": "execute_result"
    }
   ],
   "source": [
    "def cal():\n",
    "    count = 1\n",
    "    try:\n",
    "        a = int(input(\"Enter a = \"))\n",
    "        b = int(input(\"Enter b = \"))\n",
    "        c = a/b\n",
    "    except ValueError :\n",
    "        print(\"The value of a and b should be int.\")\n",
    "        count = count+1\n",
    "        cal()\n",
    "    except ZeroDivisionError:\n",
    "        print(\"The value of b can not be zero\")\n",
    "        count = count+1\n",
    "        cal()\n",
    "    else:\n",
    "        print(c)\n",
    "\n",
    "    return count\n",
    "        \n",
    "cal()"
   ]
  },
  {
   "cell_type": "code",
   "execution_count": 25,
   "metadata": {},
   "outputs": [
    {
     "ename": "ZeroDivisionError",
     "evalue": "",
     "output_type": "error",
     "traceback": [
      "\u001b[1;31m---------------------------------------------------------------------------\u001b[0m",
      "\u001b[1;31mZeroDivisionError\u001b[0m                         Traceback (most recent call last)",
      "\u001b[1;32m<ipython-input-25-c62fc6984c64>\u001b[0m in \u001b[0;36m<module>\u001b[1;34m\u001b[0m\n\u001b[1;32m----> 1\u001b[1;33m \u001b[1;32mraise\u001b[0m \u001b[0mZeroDivisionError\u001b[0m\u001b[1;33m\u001b[0m\u001b[1;33m\u001b[0m\u001b[0m\n\u001b[0m",
      "\u001b[1;31mZeroDivisionError\u001b[0m: "
     ]
    }
   ],
   "source": [
    "raise ZeroDivisionError"
   ]
  },
  {
   "cell_type": "code",
   "execution_count": 27,
   "metadata": {},
   "outputs": [
    {
     "name": "stdout",
     "output_type": "stream",
     "text": [
      "Enter a?10\n",
      "Enter b?0\n",
      "The value of b can't be 0\n"
     ]
    }
   ],
   "source": [
    "try:  \n",
    "    a = int(input(\"Enter a?\"))  \n",
    "    b = int(input(\"Enter b?\"))  \n",
    "    if b == 0:  \n",
    "        raise ValueError\n",
    "    else:  \n",
    "        print(\"a/b = \",a/b)  \n",
    "except ValueError:  \n",
    "    print(\"The value of b can't be 0\")\n"
   ]
  },
  {
   "cell_type": "code",
   "execution_count": 30,
   "metadata": {},
   "outputs": [
    {
     "name": "stdout",
     "output_type": "stream",
     "text": [
      "You entered  10\n"
     ]
    }
   ],
   "source": [
    "try:\n",
    "    a = 10\n",
    "    assert a>0\n",
    "\n",
    "except AssertionError:\n",
    "    print(\"The value of a shoud be +ve\")\n",
    "else:\n",
    "    print(\"You entered \",a)"
   ]
  },
  {
   "cell_type": "code",
   "execution_count": null,
   "metadata": {},
   "outputs": [],
   "source": []
  }
 ],
 "metadata": {
  "kernelspec": {
   "display_name": "Python 3",
   "language": "python",
   "name": "python3"
  },
  "language_info": {
   "codemirror_mode": {
    "name": "ipython",
    "version": 3
   },
   "file_extension": ".py",
   "mimetype": "text/x-python",
   "name": "python",
   "nbconvert_exporter": "python",
   "pygments_lexer": "ipython3",
   "version": "3.7.1"
  }
 },
 "nbformat": 4,
 "nbformat_minor": 2
}
