{
 "cells": [
  {
   "cell_type": "code",
   "execution_count": 2,
   "metadata": {},
   "outputs": [
    {
     "name": "stdout",
     "output_type": "stream",
     "text": [
      "Yes\n"
     ]
    }
   ],
   "source": [
    "a = [\"Apple\",\"Ball\",\"Cat\",\"Dog\",\"Fish\"]\n",
    "if \"Apple\" in a:\n",
    "    print(\"Yes\")"
   ]
  },
  {
   "cell_type": "code",
   "execution_count": 4,
   "metadata": {},
   "outputs": [
    {
     "data": {
      "text/plain": [
       "1"
      ]
     },
     "execution_count": 4,
     "metadata": {},
     "output_type": "execute_result"
    }
   ],
   "source": [
    "a.count(\"Apple\")"
   ]
  },
  {
   "cell_type": "code",
   "execution_count": 2,
   "metadata": {},
   "outputs": [
    {
     "name": "stdout",
     "output_type": "stream",
     "text": [
      "Enter x = Apple\n",
      "Yes\n",
      "There is 1 Apple in a\n"
     ]
    }
   ],
   "source": [
    "a = [\"Apple\",\"Ball\",\"Cat\",\"Dog\",\"Fish\"]\n",
    "x = input(\"Enter x = \")\n",
    "if x in a:\n",
    "    print(\"Yes\")\n",
    "    print(f\"There is {a.count(x)} {x} in a\")"
   ]
  },
  {
   "cell_type": "code",
   "execution_count": 8,
   "metadata": {},
   "outputs": [
    {
     "name": "stdout",
     "output_type": "stream",
     "text": [
      "['apple', 'ball', 'cat', 'dog', 'fish']\n",
      "Enter any value for search = ApPle\n",
      "Yes\n"
     ]
    }
   ],
   "source": [
    "b = []\n",
    "a = [\"Apple\",\"Ball\",\"Cat\",\"Dog\",\"Fish\"]\n",
    "for i in a:\n",
    "    x = i.lower()\n",
    "    b.append(x)\n",
    "print(b)\n",
    "n = input(\"Enter any value for search = \")\n",
    "if n.lower() in b:\n",
    "    print(\"Yes\")"
   ]
  },
  {
   "cell_type": "code",
   "execution_count": 9,
   "metadata": {},
   "outputs": [
    {
     "data": {
      "text/plain": [
       "0"
      ]
     },
     "execution_count": 9,
     "metadata": {},
     "output_type": "execute_result"
    }
   ],
   "source": [
    "# index()\n",
    "a = [\"Apple\",\"Ball\",\"Cat\",\"Dog\",\"Fish\"]\n",
    "a.index(\"Apple\")"
   ]
  },
  {
   "cell_type": "code",
   "execution_count": 13,
   "metadata": {},
   "outputs": [
    {
     "name": "stdout",
     "output_type": "stream",
     "text": [
      "0\n",
      "5\n"
     ]
    }
   ],
   "source": [
    "a = [\"Apple\",\"Ball\",\"Cat\",\"Dog\",\"Fish\",\"Apple\"]\n",
    "n = len(a)\n",
    "for i in range(n):\n",
    "    if a[i] == \"Apple\":\n",
    "        print(i)"
   ]
  },
  {
   "cell_type": "code",
   "execution_count": 14,
   "metadata": {},
   "outputs": [
    {
     "name": "stdout",
     "output_type": "stream",
     "text": [
      "[0, 5]\n"
     ]
    }
   ],
   "source": [
    "z = []\n",
    "a = [\"Apple\",\"Ball\",\"Cat\",\"Dog\",\"Fish\",\"Apple\"]\n",
    "n = len(a)\n",
    "for i in range(n):\n",
    "    if a[i] == \"Apple\":\n",
    "        z.append(i)\n",
    "print(z)"
   ]
  },
  {
   "cell_type": "code",
   "execution_count": 16,
   "metadata": {},
   "outputs": [
    {
     "name": "stdout",
     "output_type": "stream",
     "text": [
      "['Ant', 'Ball', 'Cat']\n"
     ]
    }
   ],
   "source": [
    "# Update or replace\n",
    "a = [\"Apple\",\"Ball\",\"Cat\"]\n",
    "a[0] = \"Ant\"\n",
    "print(a)"
   ]
  },
  {
   "cell_type": "code",
   "execution_count": 17,
   "metadata": {},
   "outputs": [
    {
     "name": "stdout",
     "output_type": "stream",
     "text": [
      "['Ant', 'Ball', 'Cat', 'Ant']\n"
     ]
    }
   ],
   "source": [
    "a = [\"Apple\",\"Ball\",\"Cat\",\"Apple\"]\n",
    "a[0] = \"Ant\"\n",
    "a[3] = \"Ant\"\n",
    "print(a)"
   ]
  },
  {
   "cell_type": "code",
   "execution_count": 18,
   "metadata": {},
   "outputs": [
    {
     "name": "stdout",
     "output_type": "stream",
     "text": [
      "['Ball', 'Cat', 'Apple']\n"
     ]
    }
   ],
   "source": [
    "# del ramove() pop ()\n",
    "a = [\"Apple\",\"Ball\",\"Cat\",\"Apple\"]\n",
    "del a[0]\n",
    "print(a)"
   ]
  },
  {
   "cell_type": "code",
   "execution_count": 19,
   "metadata": {},
   "outputs": [
    {
     "name": "stdout",
     "output_type": "stream",
     "text": [
      "['Apple']\n"
     ]
    }
   ],
   "source": [
    "a = [\"Apple\",\"Ball\",\"Cat\",\"Apple\"]\n",
    "del a[0:3]\n",
    "print(a)"
   ]
  },
  {
   "cell_type": "code",
   "execution_count": 20,
   "metadata": {},
   "outputs": [
    {
     "name": "stdout",
     "output_type": "stream",
     "text": [
      "['Apple', 'Cat', 'Apple']\n"
     ]
    }
   ],
   "source": [
    "a = [\"Apple\",\"Ball\",\"Cat\",\"Apple\"]\n",
    "a.remove(\"Ball\")\n",
    "print(a)"
   ]
  },
  {
   "cell_type": "code",
   "execution_count": 25,
   "metadata": {},
   "outputs": [
    {
     "name": "stdout",
     "output_type": "stream",
     "text": [
      "['Ball', 'Apple', 'Cat']\n",
      "['Ball', 'Apple', 'Cat']\n"
     ]
    }
   ],
   "source": [
    "a = [\"Ball\",\"Apple\",\"Apple\",\"Cat\"]\n",
    "for i in a:\n",
    "    if i == \"Apple\":\n",
    "        a.remove(i)\n",
    "        print(a)\n",
    "print(a)"
   ]
  },
  {
   "cell_type": "code",
   "execution_count": 2,
   "metadata": {},
   "outputs": [
    {
     "name": "stdout",
     "output_type": "stream",
     "text": [
      "['Ball', 'Cat']\n"
     ]
    }
   ],
   "source": [
    "b = []\n",
    "a = [\"Ball\",\"Apple\",\"Apple\",\"Cat\"]\n",
    "n = len(a)\n",
    "for i in range(n):\n",
    "    if a[i] == \"Apple\":\n",
    "        continue\n",
    "    b.append(a[i])\n",
    "    \n",
    "print(b)"
   ]
  },
  {
   "cell_type": "code",
   "execution_count": 5,
   "metadata": {},
   "outputs": [
    {
     "data": {
      "text/plain": [
       "'Cat'"
      ]
     },
     "execution_count": 5,
     "metadata": {},
     "output_type": "execute_result"
    }
   ],
   "source": [
    "# pop()\n",
    "a = [\"Apple\",\"Ball\",\"Cat\",\"Dog\"]\n",
    "a.pop(2)\n"
   ]
  },
  {
   "cell_type": "code",
   "execution_count": 6,
   "metadata": {},
   "outputs": [
    {
     "data": {
      "text/plain": [
       "['Apple', 'Ball', 'Dog']"
      ]
     },
     "execution_count": 6,
     "metadata": {},
     "output_type": "execute_result"
    }
   ],
   "source": [
    "a"
   ]
  },
  {
   "cell_type": "code",
   "execution_count": 7,
   "metadata": {},
   "outputs": [
    {
     "name": "stdout",
     "output_type": "stream",
     "text": [
      "['Apple', 'Ball', 'Dog']\n",
      "Cat\n"
     ]
    }
   ],
   "source": [
    "# pop()\n",
    "a = [\"Apple\",\"Ball\",\"Cat\",\"Dog\"]\n",
    "b = a.pop(2)\n",
    "print(a)\n",
    "print(b)"
   ]
  },
  {
   "cell_type": "code",
   "execution_count": 8,
   "metadata": {},
   "outputs": [
    {
     "name": "stdout",
     "output_type": "stream",
     "text": [
      "[1, 2]\n"
     ]
    }
   ],
   "source": [
    "# list inside list\n",
    "a = [[1,2],[2,3],[4,5]]\n",
    "print(a[0])"
   ]
  },
  {
   "cell_type": "code",
   "execution_count": 9,
   "metadata": {},
   "outputs": [
    {
     "name": "stdout",
     "output_type": "stream",
     "text": [
      "1\n"
     ]
    }
   ],
   "source": [
    "# list inside list\n",
    "a = [[1,2],\n",
    "     [2,3]]\n",
    "print(a[0][0])"
   ]
  },
  {
   "cell_type": "code",
   "execution_count": 14,
   "metadata": {},
   "outputs": [
    {
     "data": {
      "text/plain": [
       "'l'"
      ]
     },
     "execution_count": 14,
     "metadata": {},
     "output_type": "execute_result"
    }
   ],
   "source": [
    "a = ['Apple', 'Ball', 'Dog']\n",
    "a[0][3]"
   ]
  },
  {
   "cell_type": "code",
   "execution_count": 17,
   "metadata": {},
   "outputs": [
    {
     "data": {
      "text/plain": [
       "2"
      ]
     },
     "execution_count": 17,
     "metadata": {},
     "output_type": "execute_result"
    }
   ],
   "source": [
    "a = [[1,2,3],\n",
    "     [4,5,6],\n",
    "     [7,8,9]]\n",
    "a[0][1]"
   ]
  },
  {
   "cell_type": "code",
   "execution_count": 18,
   "metadata": {},
   "outputs": [],
   "source": [
    "a = [[1,2,3],\n",
    "     [4,5,6],\n",
    "     [1,2,3]]"
   ]
  },
  {
   "cell_type": "code",
   "execution_count": 20,
   "metadata": {},
   "outputs": [
    {
     "name": "stdout",
     "output_type": "stream",
     "text": [
      "[[1, 2], [2, 3]]\n"
     ]
    }
   ],
   "source": [
    "a = [[1,2]] + [[2,3]]\n",
    "print(a)"
   ]
  },
  {
   "cell_type": "code",
   "execution_count": 21,
   "metadata": {},
   "outputs": [
    {
     "name": "stdout",
     "output_type": "stream",
     "text": [
      "[[1, 2], 2, 3]\n"
     ]
    }
   ],
   "source": [
    "a = [[1,2]] + [2,3]\n",
    "print(a)"
   ]
  },
  {
   "cell_type": "code",
   "execution_count": 22,
   "metadata": {},
   "outputs": [
    {
     "name": "stdout",
     "output_type": "stream",
     "text": [
      "Enter n = 2\n",
      "Enter name = Ram\n",
      "Enter phone = 887987987\n",
      "Enter name = Shyam\n",
      "Enter phone = 9790798\n",
      "[['Ram', 887987987], ['Shyam', 9790798]]\n"
     ]
    }
   ],
   "source": [
    "a = []\n",
    "n = int(input(\"Enter n = \"))\n",
    "for i in range(n):\n",
    "    name = input(\"Enter name = \")\n",
    "    phone = int(input(\"Enter phone = \"))\n",
    "    data = [name,phone]\n",
    "    a.append(data)\n",
    "print(a)"
   ]
  },
  {
   "cell_type": "code",
   "execution_count": 27,
   "metadata": {},
   "outputs": [
    {
     "name": "stdout",
     "output_type": "stream",
     "text": [
      "Enter n = 2\n",
      "Enter name = Ram\n",
      "Enter phone = 8676786\n",
      "Enter name = Shyam\n",
      "Enter phone = 98987988\n",
      "[[1, 'Ram', 8676786], [2, 'Shyam', 98987988]]\n"
     ]
    }
   ],
   "source": [
    "a = []\n",
    "n = int(input(\"Enter n = \"))\n",
    "for i in range(1,n+1):\n",
    "    name = input(\"Enter name = \")\n",
    "    phone = int(input(\"Enter phone = \"))\n",
    "    data = [[i,name,phone]]\n",
    "    a = a+data\n",
    "print(a)"
   ]
  },
  {
   "cell_type": "code",
   "execution_count": 28,
   "metadata": {},
   "outputs": [
    {
     "name": "stdout",
     "output_type": "stream",
     "text": [
      "Enter n = 1\n"
     ]
    },
    {
     "data": {
      "text/plain": [
       "[1, 'Ram', 8676786]"
      ]
     },
     "execution_count": 28,
     "metadata": {},
     "output_type": "execute_result"
    }
   ],
   "source": [
    "n = int(input(\"Enter n = \"))\n",
    "a[n-1]"
   ]
  },
  {
   "cell_type": "code",
   "execution_count": 29,
   "metadata": {},
   "outputs": [
    {
     "name": "stdout",
     "output_type": "stream",
     "text": [
      "[1, 'Ram', 8676786]\n",
      "[2, 'Shyam', 98987988]\n"
     ]
    }
   ],
   "source": [
    "for i in a:\n",
    "    print(i)"
   ]
  },
  {
   "cell_type": "code",
   "execution_count": 32,
   "metadata": {},
   "outputs": [
    {
     "name": "stdout",
     "output_type": "stream",
     "text": [
      "[1, 'Ram', 8676786]\n",
      "[3, 'Ram', 7565568]\n"
     ]
    }
   ],
   "source": [
    "a = [[1, 'Ram', 8676786], [2, 'Shyam', 98987988],[3, 'Ram', 7565568]]\n",
    "for i in a:\n",
    "    if \"Ram\" in i:\n",
    "        print(i)"
   ]
  },
  {
   "cell_type": "code",
   "execution_count": 36,
   "metadata": {},
   "outputs": [
    {
     "name": "stdout",
     "output_type": "stream",
     "text": [
      "[[1, 'Ram Prasad', 8676786], [2, 'Shyam', 98987988], [3, 'Ram', 7565568]]\n"
     ]
    }
   ],
   "source": [
    "a = [[1, 'Ram', 8676786], [2, 'Shyam', 98987988],[3, 'Ram', 7565568]]\n",
    "a[0][1] = \"Ram Prasad\"\n",
    "print(a)"
   ]
  },
  {
   "cell_type": "code",
   "execution_count": 39,
   "metadata": {},
   "outputs": [
    {
     "name": "stdout",
     "output_type": "stream",
     "text": [
      "0\n",
      "2\n"
     ]
    }
   ],
   "source": [
    "a = [[1, 'Ram', 8676786], [2, 'Shyam', 98987988],[3, 'Ram', 7565568]]\n",
    "for i in range(len(a)):\n",
    "    if \"Ram\" in a[i]:\n",
    "        print(i)"
   ]
  },
  {
   "cell_type": "code",
   "execution_count": 1,
   "metadata": {},
   "outputs": [],
   "source": [
    "# WAP  for a billing system\n",
    "# WAP for result management system"
   ]
  },
  {
   "cell_type": "code",
   "execution_count": 3,
   "metadata": {},
   "outputs": [
    {
     "name": "stdout",
     "output_type": "stream",
     "text": [
      "Enter n = 2\n",
      "Enter name of the product = Momo\n",
      "Enter price = 100\n",
      "Enter quantity = 3\n",
      "Enter name of the product = Chowmin\n",
      "Enter price = 150\n",
      "Enter quantity = 3\n",
      "The billing is \n",
      " [[1, 'Momo', 100, 3, 300], [2, 'Chowmin', 150, 3, 450]]\n",
      "The net total \n",
      " 750\n"
     ]
    }
   ],
   "source": [
    "bill = []\n",
    "net_total = 0\n",
    "n = int(input(\"Enter n = \"))\n",
    "for i in range(1,n+1):\n",
    "    name = input(\"Enter name of the product = \")\n",
    "    price = int(input(\"Enter price = \"))\n",
    "    quantity = int(input(\"Enter quantity = \"))\n",
    "    total = price * quantity\n",
    "    row = [i,name,price,quantity,total]\n",
    "    net_total = net_total+total\n",
    "    bill.append(row)\n",
    "    \n",
    "print(\"The billing is \\n\",bill)\n",
    "print(\"The net total \\n\",net_total)"
   ]
  },
  {
   "cell_type": "code",
   "execution_count": 4,
   "metadata": {},
   "outputs": [
    {
     "name": "stdout",
     "output_type": "stream",
     "text": [
      "[1, 'Momo', 100, 3, 300]\n",
      "[2, 'Chowmin', 150, 3, 450]\n"
     ]
    }
   ],
   "source": [
    "for i in bill:\n",
    "    print(i)"
   ]
  },
  {
   "cell_type": "code",
   "execution_count": 6,
   "metadata": {},
   "outputs": [
    {
     "name": "stdout",
     "output_type": "stream",
     "text": [
      "Enter product name = Momo\n",
      "[1, 'Momo', 100, 3, 300]\n"
     ]
    }
   ],
   "source": [
    "search = input(\"Enter product name = \")\n",
    "for i in bill:\n",
    "    if search in i:\n",
    "        print(i)"
   ]
  },
  {
   "cell_type": "code",
   "execution_count": 12,
   "metadata": {},
   "outputs": [
    {
     "name": "stdout",
     "output_type": "stream",
     "text": [
      "Enter quantity = 4\n"
     ]
    }
   ],
   "source": [
    "# quantity =bill[0][3]\n",
    "q = int(input(\"Enter quantity = \"))\n",
    "\n",
    "price = bill[0][2]\n",
    "quantity = q\n",
    "total = price *quantity\n",
    "bill[0][3] = quantity\n",
    "bill[0][4] = total"
   ]
  },
  {
   "cell_type": "code",
   "execution_count": 13,
   "metadata": {},
   "outputs": [
    {
     "data": {
      "text/plain": [
       "[[1, 'Momo', 100, 4, 400], [2, 'Chowmin', 150, 3, 450]]"
      ]
     },
     "execution_count": 13,
     "metadata": {},
     "output_type": "execute_result"
    }
   ],
   "source": [
    "bill"
   ]
  },
  {
   "cell_type": "code",
   "execution_count": 14,
   "metadata": {},
   "outputs": [
    {
     "name": "stdout",
     "output_type": "stream",
     "text": [
      "[[1, 'Momo', 100, 4, 400]]\n"
     ]
    }
   ],
   "source": [
    "del bill[1]\n",
    "print(bill)"
   ]
  },
  {
   "cell_type": "code",
   "execution_count": 18,
   "metadata": {},
   "outputs": [
    {
     "name": "stdout",
     "output_type": "stream",
     "text": [
      "Enter n = 2\n",
      "Enter name = Ram\n",
      "Enter physics marks = 67\n",
      "Enter chemistry marks = 90\n",
      "Enter math marks = 89\n",
      "Enter english marks = 67\n",
      "Enter nepali marks = 78\n",
      "Enter name = Shyam\n",
      "Enter physics marks = 56\n",
      "Enter chemistry marks = 90\n",
      "Enter math marks = 78\n",
      "Enter english marks = 87\n",
      "Enter nepali marks = 67\n",
      "[[1, 'Ram', 67, 90, 89, 67, 78, 391, 78.2, 'B'], [2, 'Shyam', 56, 90, 78, 87, 67, 378, 75.6, 'B']]\n"
     ]
    }
   ],
   "source": [
    "# WAP for result management system\n",
    "result = []\n",
    "n = int(input(\"Enter n = \"))\n",
    "for i in range(1,n+1):\n",
    "    name = input(\"Enter name = \")\n",
    "    physics = int(input(\"Enter physics marks = \"))\n",
    "    chemistry = int(input(\"Enter chemistry marks = \"))\n",
    "    math = int(input(\"Enter math marks = \"))\n",
    "    english = int(input(\"Enter english marks = \"))\n",
    "    nepali = int(input(\"Enter nepali marks = \"))\n",
    "    t = [physics,chemistry,math,english,nepali]\n",
    "    total = sum(t)\n",
    "    per = total/5\n",
    "    if per >=80:\n",
    "        grade = \"A\"\n",
    "    elif per >=60:\n",
    "        grade = \"B\"\n",
    "    elif per >=45:\n",
    "        grade = \"C\"\n",
    "    else:\n",
    "        grade = \"F\"\n",
    "    data = [i,name,total,per,grade]\n",
    "    final_data = data[0:2]+t+data[2:]\n",
    "    result.append(final_data)\n",
    "    \n",
    "print(result)"
   ]
  },
  {
   "cell_type": "code",
   "execution_count": 20,
   "metadata": {},
   "outputs": [
    {
     "name": "stdout",
     "output_type": "stream",
     "text": [
      "[['Sn', 'Name', 'physics', 'chemistry', 'math', 'english', 'nepali', 'Total', 'Per', 'Grade'], [1, 'Ram', 67, 90, 89, 67, 78, 391, 78.2, 'B'], [2, 'Shyam', 56, 90, 78, 87, 67, 378, 75.6, 'B']]\n"
     ]
    }
   ],
   "source": [
    "final_net_data = [[\"Sn\",\"Name\",\"physics\",\"chemistry\",\"math\",\"english\",\"nepali\",\"Total\",\"Per\",\"Grade\"]]+result\n",
    "print(final_net_data)"
   ]
  },
  {
   "cell_type": "code",
   "execution_count": 21,
   "metadata": {},
   "outputs": [
    {
     "name": "stdout",
     "output_type": "stream",
     "text": [
      "[1, 'Ram', 67, 90, 89, 67, 78, 391, 78.2, 'B']\n",
      "[2, 'Shyam', 56, 90, 78, 87, 67, 378, 75.6, 'B']\n"
     ]
    }
   ],
   "source": [
    "for i in result:\n",
    "    if \"B\" in i[-1]:\n",
    "        print(i)"
   ]
  },
  {
   "cell_type": "code",
   "execution_count": 24,
   "metadata": {},
   "outputs": [
    {
     "name": "stdout",
     "output_type": "stream",
     "text": [
      "[2, 'Shyam', 56, 90, 78, 87, 67, 378, 75.6, 'B']\n"
     ]
    }
   ],
   "source": [
    "result = [[1, 'Bharat', 67, 90, 89, 67, 78, 391, 78.2, 'A'], \n",
    "          [2, 'Shyam', 56, 90, 78, 87, 67, 378, 75.6, 'B']]\n",
    "for i in result:\n",
    "    if \"B\" in i[-1]:\n",
    "        print(i)\n"
   ]
  },
  {
   "cell_type": "code",
   "execution_count": null,
   "metadata": {},
   "outputs": [],
   "source": []
  }
 ],
 "metadata": {
  "kernelspec": {
   "display_name": "Python 3",
   "language": "python",
   "name": "python3"
  },
  "language_info": {
   "codemirror_mode": {
    "name": "ipython",
    "version": 3
   },
   "file_extension": ".py",
   "mimetype": "text/x-python",
   "name": "python",
   "nbconvert_exporter": "python",
   "pygments_lexer": "ipython3",
   "version": "3.7.1"
  }
 },
 "nbformat": 4,
 "nbformat_minor": 2
}
